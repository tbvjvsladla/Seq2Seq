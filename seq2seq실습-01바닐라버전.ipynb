{
 "cells": [
  {
   "cell_type": "code",
   "execution_count": 1,
   "metadata": {},
   "outputs": [],
   "source": [
    "import os\n",
    "\n",
    "path_1 = './data/TL_다국어-한국어_deko_기타'\n",
    "path_2 = './data/TL_다국어-한국어_deko_다큐교양'\n",
    "path_3 = './data/TL_다국어-한국어_deko_영화드라마'\n",
    "\n",
    "file_1_list = os.listdir(path_1)\n",
    "file_2_list = os.listdir(path_2)\n",
    "file_3_list = os.listdir(path_3)\n",
    "\n",
    "# 전체 파일 경로 리스트 생성\n",
    "file_1_paths = [os.path.join(path_1, file) for file in file_1_list]\n",
    "file_2_paths = [os.path.join(path_2, file) for file in file_2_list]\n",
    "file_3_paths = [os.path.join(path_3, file) for file in file_3_list]\n",
    "\n",
    "file_paths = file_1_paths + file_2_paths + file_3_paths"
   ]
  },
  {
   "cell_type": "code",
   "execution_count": 2,
   "metadata": {},
   "outputs": [],
   "source": [
    "import json\n",
    "\n",
    "parsered_data = [] # 파싱 데이터를 저장할 변수\n",
    "\n",
    "for file_path in file_paths:\n",
    "    #json파일 불러오기\n",
    "    with open(file_path, 'r', encoding='utf-8') as f:\n",
    "        data = json.load(f)\n",
    "\n",
    "        # 문서 정보 중 필요항목을 딕셔너리에 담고 리스트에 추가\n",
    "        raw_dict = {\n",
    "            \"문서ID\" : data['ID'],\n",
    "            \"번역\" : \"독->한\",\n",
    "            \"원문(src)\" : data['원문'],\n",
    "            \"번역문(tar)\" : data['최종번역문']\n",
    "        }\n",
    "        parsered_data.append(raw_dict)"
   ]
  },
  {
   "cell_type": "code",
   "execution_count": 3,
   "metadata": {},
   "outputs": [
    {
     "data": {
      "text/html": [
       "<div>\n",
       "<style scoped>\n",
       "    .dataframe tbody tr th:only-of-type {\n",
       "        vertical-align: middle;\n",
       "    }\n",
       "\n",
       "    .dataframe tbody tr th {\n",
       "        vertical-align: top;\n",
       "    }\n",
       "\n",
       "    .dataframe thead th {\n",
       "        text-align: right;\n",
       "    }\n",
       "</style>\n",
       "<table border=\"1\" class=\"dataframe\">\n",
       "  <thead>\n",
       "    <tr style=\"text-align: right;\">\n",
       "      <th></th>\n",
       "      <th>문서ID</th>\n",
       "      <th>번역</th>\n",
       "      <th>원문(src)</th>\n",
       "      <th>번역문(tar)</th>\n",
       "    </tr>\n",
       "  </thead>\n",
       "  <tbody>\n",
       "    <tr>\n",
       "      <th>0</th>\n",
       "      <td>ot_100615</td>\n",
       "      <td>독-&gt;한</td>\n",
       "      <td>Mal sehen, ob meine Haut reagiert oder nicht.</td>\n",
       "      <td>내 피부가 반응하는지 보자.</td>\n",
       "    </tr>\n",
       "    <tr>\n",
       "      <th>1</th>\n",
       "      <td>ot_100616</td>\n",
       "      <td>독-&gt;한</td>\n",
       "      <td>Ich habe viele großartige Kritiken über Drunk ...</td>\n",
       "      <td>저는 드렁크 엘리펀트에 대한 훌륭한 리뷰를 많이 들었습니다.</td>\n",
       "    </tr>\n",
       "    <tr>\n",
       "      <th>2</th>\n",
       "      <td>ot_100617</td>\n",
       "      <td>독-&gt;한</td>\n",
       "      <td>Lass uns zur Poolparty gehen.</td>\n",
       "      <td>수영장 파티에 가자.</td>\n",
       "    </tr>\n",
       "    <tr>\n",
       "      <th>3</th>\n",
       "      <td>ot_100618</td>\n",
       "      <td>독-&gt;한</td>\n",
       "      <td>Sie bringen einen neuen Reiniger auf den Markt.</td>\n",
       "      <td>그들은 새로운 청소기를 시장에서 출시하고 있어요.</td>\n",
       "    </tr>\n",
       "    <tr>\n",
       "      <th>4</th>\n",
       "      <td>ot_100619</td>\n",
       "      <td>독-&gt;한</td>\n",
       "      <td>Genau hier ist nur gepresster Gemüsesaft.</td>\n",
       "      <td>바로 여기에 압착 야채 주스가 있어요.</td>\n",
       "    </tr>\n",
       "    <tr>\n",
       "      <th>...</th>\n",
       "      <td>...</td>\n",
       "      <td>...</td>\n",
       "      <td>...</td>\n",
       "      <td>...</td>\n",
       "    </tr>\n",
       "    <tr>\n",
       "      <th>120494</th>\n",
       "      <td>md_100608</td>\n",
       "      <td>독-&gt;한</td>\n",
       "      <td>Er sucht nach dem Ort, der die Bewohner verein...</td>\n",
       "      <td>그는 주민들을 결집시킬 수 있는 장소를 찾아다녔고, 이를 빵집에서 찾는다.</td>\n",
       "    </tr>\n",
       "    <tr>\n",
       "      <th>120495</th>\n",
       "      <td>md_100609</td>\n",
       "      <td>독-&gt;한</td>\n",
       "      <td>Coelho Costinha ist ein einfacher Mann, der je...</td>\n",
       "      <td>코엘호 코스틴하는 재정적인 어려움을 겪고 있는 평범한 사람이다.</td>\n",
       "    </tr>\n",
       "    <tr>\n",
       "      <th>120496</th>\n",
       "      <td>md_100610</td>\n",
       "      <td>독-&gt;한</td>\n",
       "      <td>Als sie aufwacht, ist sie doppelt so alt, denk...</td>\n",
       "      <td>그녀가 깨어났을 때, 그녀는 나이가 두 배나 많이 들었지만, 여전히 10대처럼 생각한다.</td>\n",
       "    </tr>\n",
       "    <tr>\n",
       "      <th>120497</th>\n",
       "      <td>md_100611</td>\n",
       "      <td>독-&gt;한</td>\n",
       "      <td>Viele Frauen stecken in der Misere, und alle s...</td>\n",
       "      <td>많은 여성들이 불행 속에 살고 있고, 그들 모두는 그들의 상황에서 벗어날 길을 찾고...</td>\n",
       "    </tr>\n",
       "    <tr>\n",
       "      <th>120498</th>\n",
       "      <td>md_100614</td>\n",
       "      <td>독-&gt;한</td>\n",
       "      <td>Eines Tages erfährt Corvaz, dass sich seine Mu...</td>\n",
       "      <td>어느 날, 코바즈는 그의 어머니가 자살했다는 것을 알게 된다.</td>\n",
       "    </tr>\n",
       "  </tbody>\n",
       "</table>\n",
       "<p>120499 rows × 4 columns</p>\n",
       "</div>"
      ],
      "text/plain": [
       "             문서ID    번역                                            원문(src)  \\\n",
       "0       ot_100615  독->한      Mal sehen, ob meine Haut reagiert oder nicht.   \n",
       "1       ot_100616  독->한  Ich habe viele großartige Kritiken über Drunk ...   \n",
       "2       ot_100617  독->한                      Lass uns zur Poolparty gehen.   \n",
       "3       ot_100618  독->한    Sie bringen einen neuen Reiniger auf den Markt.   \n",
       "4       ot_100619  독->한          Genau hier ist nur gepresster Gemüsesaft.   \n",
       "...           ...   ...                                                ...   \n",
       "120494  md_100608  독->한  Er sucht nach dem Ort, der die Bewohner verein...   \n",
       "120495  md_100609  독->한  Coelho Costinha ist ein einfacher Mann, der je...   \n",
       "120496  md_100610  독->한  Als sie aufwacht, ist sie doppelt so alt, denk...   \n",
       "120497  md_100611  독->한  Viele Frauen stecken in der Misere, und alle s...   \n",
       "120498  md_100614  독->한  Eines Tages erfährt Corvaz, dass sich seine Mu...   \n",
       "\n",
       "                                                 번역문(tar)  \n",
       "0                                         내 피부가 반응하는지 보자.  \n",
       "1                       저는 드렁크 엘리펀트에 대한 훌륭한 리뷰를 많이 들었습니다.  \n",
       "2                                             수영장 파티에 가자.  \n",
       "3                             그들은 새로운 청소기를 시장에서 출시하고 있어요.  \n",
       "4                                   바로 여기에 압착 야채 주스가 있어요.  \n",
       "...                                                   ...  \n",
       "120494          그는 주민들을 결집시킬 수 있는 장소를 찾아다녔고, 이를 빵집에서 찾는다.  \n",
       "120495                코엘호 코스틴하는 재정적인 어려움을 겪고 있는 평범한 사람이다.  \n",
       "120496  그녀가 깨어났을 때, 그녀는 나이가 두 배나 많이 들었지만, 여전히 10대처럼 생각한다.  \n",
       "120497  많은 여성들이 불행 속에 살고 있고, 그들 모두는 그들의 상황에서 벗어날 길을 찾고...  \n",
       "120498                 어느 날, 코바즈는 그의 어머니가 자살했다는 것을 알게 된다.  \n",
       "\n",
       "[120499 rows x 4 columns]"
      ]
     },
     "metadata": {},
     "output_type": "display_data"
    }
   ],
   "source": [
    "import pandas as pd\n",
    "\n",
    "# 파싱이 완료된 데이터를 Dataframe 형식으로 변환\n",
    "raw_data = pd.DataFrame(parsered_data)\n",
    "\n",
    "display(raw_data)"
   ]
  },
  {
   "cell_type": "code",
   "execution_count": 4,
   "metadata": {},
   "outputs": [],
   "source": [
    "# 데이터 및 텍스트 전처리 함수를 모듈화 시킨 파일\n",
    "from NLP_pp import *"
   ]
  },
  {
   "cell_type": "code",
   "execution_count": 5,
   "metadata": {},
   "outputs": [],
   "source": [
    "# 데이터셋읜 결측치 & 중복치 제거 함수 실행\n",
    "raw_data = df_cleaning(raw_data, '원문(src)')\n",
    "raw_data = df_cleaning(raw_data, '번역문(tar)')"
   ]
  },
  {
   "cell_type": "code",
   "execution_count": 6,
   "metadata": {},
   "outputs": [
    {
     "data": {
      "text/html": [
       "<div>\n",
       "<style scoped>\n",
       "    .dataframe tbody tr th:only-of-type {\n",
       "        vertical-align: middle;\n",
       "    }\n",
       "\n",
       "    .dataframe tbody tr th {\n",
       "        vertical-align: top;\n",
       "    }\n",
       "\n",
       "    .dataframe thead th {\n",
       "        text-align: right;\n",
       "    }\n",
       "</style>\n",
       "<table border=\"1\" class=\"dataframe\">\n",
       "  <thead>\n",
       "    <tr style=\"text-align: right;\">\n",
       "      <th></th>\n",
       "      <th>문서ID</th>\n",
       "      <th>번역</th>\n",
       "      <th>원문(src)</th>\n",
       "      <th>번역문(tar)</th>\n",
       "    </tr>\n",
       "  </thead>\n",
       "  <tbody>\n",
       "    <tr>\n",
       "      <th>0</th>\n",
       "      <td>ot_100615</td>\n",
       "      <td>독-&gt;한</td>\n",
       "      <td>Mal sehen, ob meine Haut reagiert oder nicht.</td>\n",
       "      <td>내 피부가 반응하는지 보자.</td>\n",
       "    </tr>\n",
       "    <tr>\n",
       "      <th>1</th>\n",
       "      <td>ot_100616</td>\n",
       "      <td>독-&gt;한</td>\n",
       "      <td>Ich habe viele großartige Kritiken über Drunk ...</td>\n",
       "      <td>저는 드렁크 엘리펀트에 대한 훌륭한 리뷰를 많이 들었습니다.</td>\n",
       "    </tr>\n",
       "    <tr>\n",
       "      <th>2</th>\n",
       "      <td>ot_100617</td>\n",
       "      <td>독-&gt;한</td>\n",
       "      <td>Lass uns zur Poolparty gehen.</td>\n",
       "      <td>수영장 파티에 가자.</td>\n",
       "    </tr>\n",
       "    <tr>\n",
       "      <th>3</th>\n",
       "      <td>ot_100618</td>\n",
       "      <td>독-&gt;한</td>\n",
       "      <td>Sie bringen einen neuen Reiniger auf den Markt.</td>\n",
       "      <td>그들은 새로운 청소기를 시장에서 출시하고 있어요.</td>\n",
       "    </tr>\n",
       "    <tr>\n",
       "      <th>4</th>\n",
       "      <td>ot_100619</td>\n",
       "      <td>독-&gt;한</td>\n",
       "      <td>Genau hier ist nur gepresster Gemüsesaft.</td>\n",
       "      <td>바로 여기에 압착 야채 주스가 있어요.</td>\n",
       "    </tr>\n",
       "    <tr>\n",
       "      <th>...</th>\n",
       "      <td>...</td>\n",
       "      <td>...</td>\n",
       "      <td>...</td>\n",
       "      <td>...</td>\n",
       "    </tr>\n",
       "    <tr>\n",
       "      <th>120327</th>\n",
       "      <td>md_100608</td>\n",
       "      <td>독-&gt;한</td>\n",
       "      <td>Er sucht nach dem Ort, der die Bewohner verein...</td>\n",
       "      <td>그는 주민들을 결집시킬 수 있는 장소를 찾아다녔고, 이를 빵집에서 찾는다.</td>\n",
       "    </tr>\n",
       "    <tr>\n",
       "      <th>120328</th>\n",
       "      <td>md_100609</td>\n",
       "      <td>독-&gt;한</td>\n",
       "      <td>Coelho Costinha ist ein einfacher Mann, der je...</td>\n",
       "      <td>코엘호 코스틴하는 재정적인 어려움을 겪고 있는 평범한 사람이다.</td>\n",
       "    </tr>\n",
       "    <tr>\n",
       "      <th>120329</th>\n",
       "      <td>md_100610</td>\n",
       "      <td>독-&gt;한</td>\n",
       "      <td>Als sie aufwacht, ist sie doppelt so alt, denk...</td>\n",
       "      <td>그녀가 깨어났을 때, 그녀는 나이가 두 배나 많이 들었지만, 여전히 10대처럼 생각한다.</td>\n",
       "    </tr>\n",
       "    <tr>\n",
       "      <th>120330</th>\n",
       "      <td>md_100611</td>\n",
       "      <td>독-&gt;한</td>\n",
       "      <td>Viele Frauen stecken in der Misere, und alle s...</td>\n",
       "      <td>많은 여성들이 불행 속에 살고 있고, 그들 모두는 그들의 상황에서 벗어날 길을 찾고...</td>\n",
       "    </tr>\n",
       "    <tr>\n",
       "      <th>120331</th>\n",
       "      <td>md_100614</td>\n",
       "      <td>독-&gt;한</td>\n",
       "      <td>Eines Tages erfährt Corvaz, dass sich seine Mu...</td>\n",
       "      <td>어느 날, 코바즈는 그의 어머니가 자살했다는 것을 알게 된다.</td>\n",
       "    </tr>\n",
       "  </tbody>\n",
       "</table>\n",
       "<p>120332 rows × 4 columns</p>\n",
       "</div>"
      ],
      "text/plain": [
       "             문서ID    번역                                            원문(src)  \\\n",
       "0       ot_100615  독->한      Mal sehen, ob meine Haut reagiert oder nicht.   \n",
       "1       ot_100616  독->한  Ich habe viele großartige Kritiken über Drunk ...   \n",
       "2       ot_100617  독->한                      Lass uns zur Poolparty gehen.   \n",
       "3       ot_100618  독->한    Sie bringen einen neuen Reiniger auf den Markt.   \n",
       "4       ot_100619  독->한          Genau hier ist nur gepresster Gemüsesaft.   \n",
       "...           ...   ...                                                ...   \n",
       "120327  md_100608  독->한  Er sucht nach dem Ort, der die Bewohner verein...   \n",
       "120328  md_100609  독->한  Coelho Costinha ist ein einfacher Mann, der je...   \n",
       "120329  md_100610  독->한  Als sie aufwacht, ist sie doppelt so alt, denk...   \n",
       "120330  md_100611  독->한  Viele Frauen stecken in der Misere, und alle s...   \n",
       "120331  md_100614  독->한  Eines Tages erfährt Corvaz, dass sich seine Mu...   \n",
       "\n",
       "                                                 번역문(tar)  \n",
       "0                                         내 피부가 반응하는지 보자.  \n",
       "1                       저는 드렁크 엘리펀트에 대한 훌륭한 리뷰를 많이 들었습니다.  \n",
       "2                                             수영장 파티에 가자.  \n",
       "3                             그들은 새로운 청소기를 시장에서 출시하고 있어요.  \n",
       "4                                   바로 여기에 압착 야채 주스가 있어요.  \n",
       "...                                                   ...  \n",
       "120327          그는 주민들을 결집시킬 수 있는 장소를 찾아다녔고, 이를 빵집에서 찾는다.  \n",
       "120328                코엘호 코스틴하는 재정적인 어려움을 겪고 있는 평범한 사람이다.  \n",
       "120329  그녀가 깨어났을 때, 그녀는 나이가 두 배나 많이 들었지만, 여전히 10대처럼 생각한다.  \n",
       "120330  많은 여성들이 불행 속에 살고 있고, 그들 모두는 그들의 상황에서 벗어날 길을 찾고...  \n",
       "120331                 어느 날, 코바즈는 그의 어머니가 자살했다는 것을 알게 된다.  \n",
       "\n",
       "[120332 rows x 4 columns]"
      ]
     },
     "execution_count": 6,
     "metadata": {},
     "output_type": "execute_result"
    }
   ],
   "source": [
    "raw_data"
   ]
  },
  {
   "cell_type": "code",
   "execution_count": 7,
   "metadata": {},
   "outputs": [],
   "source": [
    "import re\n",
    "\n",
    "def regex_sub_DE(sent):\n",
    "    # 입력 텍스트를 소문자로 변환\n",
    "    sent = sent.lower()\n",
    "    # 단어와 구두점 사이에 공백을 추가\n",
    "    sent = re.sub(r\"([?.!,¿])\", r\" \\1\", sent)\n",
    "    # 다수 개의 공백을 하나의 공백으로 치환\n",
    "    sent = re.sub(r\"\\s+\", \" \", sent)\n",
    "    return sent.strip()\n",
    "\n",
    "def regex_sub_KR(sent):\n",
    "    # 단어와 구두점 사이에 공백을 추가\n",
    "    sent = re.sub(r\"([?.!,¿])\", r\" \\1\", sent)\n",
    "    # 단순하게 텍스트에서 다수 개의 공백을 하나의 공백으로 치환\n",
    "    sent = re.sub(r\"\\s+\", \" \", sent)\n",
    "    return sent.strip()"
   ]
  },
  {
   "cell_type": "code",
   "execution_count": 8,
   "metadata": {},
   "outputs": [],
   "source": [
    "# 독일어, 한국어에 대한 데이터 클리닝 수행\n",
    "raw_data['원문(src)'] = raw_data['원문(src)'].apply(regex_sub_DE)\n",
    "raw_data['번역문(tar)'] = raw_data['번역문(tar)'].apply(regex_sub_KR)"
   ]
  },
  {
   "cell_type": "code",
   "execution_count": 9,
   "metadata": {},
   "outputs": [
    {
     "data": {
      "text/html": [
       "<div>\n",
       "<style scoped>\n",
       "    .dataframe tbody tr th:only-of-type {\n",
       "        vertical-align: middle;\n",
       "    }\n",
       "\n",
       "    .dataframe tbody tr th {\n",
       "        vertical-align: top;\n",
       "    }\n",
       "\n",
       "    .dataframe thead th {\n",
       "        text-align: right;\n",
       "    }\n",
       "</style>\n",
       "<table border=\"1\" class=\"dataframe\">\n",
       "  <thead>\n",
       "    <tr style=\"text-align: right;\">\n",
       "      <th></th>\n",
       "      <th>문서ID</th>\n",
       "      <th>번역</th>\n",
       "      <th>원문(src)</th>\n",
       "      <th>번역문(tar)</th>\n",
       "    </tr>\n",
       "  </thead>\n",
       "  <tbody>\n",
       "    <tr>\n",
       "      <th>0</th>\n",
       "      <td>ot_100615</td>\n",
       "      <td>독-&gt;한</td>\n",
       "      <td>mal sehen , ob meine haut reagiert oder nicht .</td>\n",
       "      <td>내 피부가 반응하는지 보자 .</td>\n",
       "    </tr>\n",
       "    <tr>\n",
       "      <th>1</th>\n",
       "      <td>ot_100616</td>\n",
       "      <td>독-&gt;한</td>\n",
       "      <td>ich habe viele großartige kritiken über drunk ...</td>\n",
       "      <td>저는 드렁크 엘리펀트에 대한 훌륭한 리뷰를 많이 들었습니다 .</td>\n",
       "    </tr>\n",
       "    <tr>\n",
       "      <th>2</th>\n",
       "      <td>ot_100617</td>\n",
       "      <td>독-&gt;한</td>\n",
       "      <td>lass uns zur poolparty gehen .</td>\n",
       "      <td>수영장 파티에 가자 .</td>\n",
       "    </tr>\n",
       "    <tr>\n",
       "      <th>3</th>\n",
       "      <td>ot_100618</td>\n",
       "      <td>독-&gt;한</td>\n",
       "      <td>sie bringen einen neuen reiniger auf den markt .</td>\n",
       "      <td>그들은 새로운 청소기를 시장에서 출시하고 있어요 .</td>\n",
       "    </tr>\n",
       "    <tr>\n",
       "      <th>4</th>\n",
       "      <td>ot_100619</td>\n",
       "      <td>독-&gt;한</td>\n",
       "      <td>genau hier ist nur gepresster gemüsesaft .</td>\n",
       "      <td>바로 여기에 압착 야채 주스가 있어요 .</td>\n",
       "    </tr>\n",
       "    <tr>\n",
       "      <th>...</th>\n",
       "      <td>...</td>\n",
       "      <td>...</td>\n",
       "      <td>...</td>\n",
       "      <td>...</td>\n",
       "    </tr>\n",
       "    <tr>\n",
       "      <th>120327</th>\n",
       "      <td>md_100608</td>\n",
       "      <td>독-&gt;한</td>\n",
       "      <td>er sucht nach dem ort , der die bewohner verei...</td>\n",
       "      <td>그는 주민들을 결집시킬 수 있는 장소를 찾아다녔고 , 이를 빵집에서 찾는다 .</td>\n",
       "    </tr>\n",
       "    <tr>\n",
       "      <th>120328</th>\n",
       "      <td>md_100609</td>\n",
       "      <td>독-&gt;한</td>\n",
       "      <td>coelho costinha ist ein einfacher mann , der j...</td>\n",
       "      <td>코엘호 코스틴하는 재정적인 어려움을 겪고 있는 평범한 사람이다 .</td>\n",
       "    </tr>\n",
       "    <tr>\n",
       "      <th>120329</th>\n",
       "      <td>md_100610</td>\n",
       "      <td>독-&gt;한</td>\n",
       "      <td>als sie aufwacht , ist sie doppelt so alt , de...</td>\n",
       "      <td>그녀가 깨어났을 때 , 그녀는 나이가 두 배나 많이 들었지만 , 여전히 10대처럼 ...</td>\n",
       "    </tr>\n",
       "    <tr>\n",
       "      <th>120330</th>\n",
       "      <td>md_100611</td>\n",
       "      <td>독-&gt;한</td>\n",
       "      <td>viele frauen stecken in der misere , und alle ...</td>\n",
       "      <td>많은 여성들이 불행 속에 살고 있고 , 그들 모두는 그들의 상황에서 벗어날 길을 찾...</td>\n",
       "    </tr>\n",
       "    <tr>\n",
       "      <th>120331</th>\n",
       "      <td>md_100614</td>\n",
       "      <td>독-&gt;한</td>\n",
       "      <td>eines tages erfährt corvaz , dass sich seine m...</td>\n",
       "      <td>어느 날 , 코바즈는 그의 어머니가 자살했다는 것을 알게 된다 .</td>\n",
       "    </tr>\n",
       "  </tbody>\n",
       "</table>\n",
       "<p>120332 rows × 4 columns</p>\n",
       "</div>"
      ],
      "text/plain": [
       "             문서ID    번역                                            원문(src)  \\\n",
       "0       ot_100615  독->한    mal sehen , ob meine haut reagiert oder nicht .   \n",
       "1       ot_100616  독->한  ich habe viele großartige kritiken über drunk ...   \n",
       "2       ot_100617  독->한                     lass uns zur poolparty gehen .   \n",
       "3       ot_100618  독->한   sie bringen einen neuen reiniger auf den markt .   \n",
       "4       ot_100619  독->한         genau hier ist nur gepresster gemüsesaft .   \n",
       "...           ...   ...                                                ...   \n",
       "120327  md_100608  독->한  er sucht nach dem ort , der die bewohner verei...   \n",
       "120328  md_100609  독->한  coelho costinha ist ein einfacher mann , der j...   \n",
       "120329  md_100610  독->한  als sie aufwacht , ist sie doppelt so alt , de...   \n",
       "120330  md_100611  독->한  viele frauen stecken in der misere , und alle ...   \n",
       "120331  md_100614  독->한  eines tages erfährt corvaz , dass sich seine m...   \n",
       "\n",
       "                                                 번역문(tar)  \n",
       "0                                        내 피부가 반응하는지 보자 .  \n",
       "1                      저는 드렁크 엘리펀트에 대한 훌륭한 리뷰를 많이 들었습니다 .  \n",
       "2                                            수영장 파티에 가자 .  \n",
       "3                            그들은 새로운 청소기를 시장에서 출시하고 있어요 .  \n",
       "4                                  바로 여기에 압착 야채 주스가 있어요 .  \n",
       "...                                                   ...  \n",
       "120327        그는 주민들을 결집시킬 수 있는 장소를 찾아다녔고 , 이를 빵집에서 찾는다 .  \n",
       "120328               코엘호 코스틴하는 재정적인 어려움을 겪고 있는 평범한 사람이다 .  \n",
       "120329  그녀가 깨어났을 때 , 그녀는 나이가 두 배나 많이 들었지만 , 여전히 10대처럼 ...  \n",
       "120330  많은 여성들이 불행 속에 살고 있고 , 그들 모두는 그들의 상황에서 벗어날 길을 찾...  \n",
       "120331               어느 날 , 코바즈는 그의 어머니가 자살했다는 것을 알게 된다 .  \n",
       "\n",
       "[120332 rows x 4 columns]"
      ]
     },
     "execution_count": 9,
     "metadata": {},
     "output_type": "execute_result"
    }
   ],
   "source": [
    "raw_data"
   ]
  },
  {
   "cell_type": "code",
   "execution_count": 10,
   "metadata": {},
   "outputs": [],
   "source": [
    "# 인코더의 입력 데이터인 src 데이터\n",
    "raw_src_data = raw_data['원문(src)'].values.tolist()\n",
    "# 디코더의 정답지 데이터인 tar 데이터\n",
    "raw_tar_data = raw_data['번역문(tar)'].values.tolist()"
   ]
  },
  {
   "cell_type": "code",
   "execution_count": 11,
   "metadata": {},
   "outputs": [],
   "source": [
    "from transformers import BertTokenizer\n",
    "\n",
    "# 독일어 토크나이저 모델: dbmdz/bert-base-german-uncased\n",
    "german_tokenizer = BertTokenizer.from_pretrained(\"dbmdz/bert-base-german-uncased\")\n",
    "# 한국어 토크나이저 모델: kykim/bert-kor-base\n",
    "korean_tokenizer = BertTokenizer.from_pretrained(\"kykim/bert-kor-base\")"
   ]
  },
  {
   "cell_type": "code",
   "execution_count": 12,
   "metadata": {},
   "outputs": [
    {
     "name": "stderr",
     "output_type": "stream",
     "text": [
      "토큰화 진행 중: 100%|██████████| 120332/120332 [00:21<00:00, 5556.03it/s]\n",
      "토큰화 진행 중: 100%|██████████| 120332/120332 [00:12<00:00, 9523.61it/s]\n"
     ]
    }
   ],
   "source": [
    "# 원문 토큰화 수행\n",
    "tokenized_src_data = tokenize(raw_src_data, german_tokenizer, arch='Bert')\n",
    "# 번역문 토큰화 수행\n",
    "tokenized_tar_data = tokenize(raw_tar_data, korean_tokenizer, arch='Bert')"
   ]
  },
  {
   "cell_type": "code",
   "execution_count": 13,
   "metadata": {},
   "outputs": [
    {
     "name": "stdout",
     "output_type": "stream",
     "text": [
      "원문 토큰 전: es ist wirklich gut , also probiere es aus .\n",
      "원문 토큰 후: ['es', 'ist', 'wirklich', 'gut', ',', 'also', 'prob', '##iere', 'es', 'aus', '.']\n",
      "번역문 토큰 전: 정말 좋으니 한번 해보세요 .\n",
      "번역문 토큰 후: ['정말', '좋으니', '한번', '해보세요', '.']\n"
     ]
    }
   ],
   "source": [
    "# 토큰 수행 결과 확인\n",
    "import random\n",
    "sample_idx = random.randint(0, len(raw_src_data)-1)\n",
    "\n",
    "print(f\"원문 토큰 전: {raw_src_data[sample_idx]}\")\n",
    "print(f\"원문 토큰 후: {tokenized_src_data[sample_idx]}\")\n",
    "print(f\"번역문 토큰 전: {raw_tar_data[sample_idx]}\")\n",
    "print(f\"번역문 토큰 후: {tokenized_tar_data[sample_idx]}\")"
   ]
  },
  {
   "cell_type": "code",
   "execution_count": 14,
   "metadata": {},
   "outputs": [],
   "source": [
    "from sklearn.model_selection import train_test_split\n",
    "\n",
    "# 훈련/검증/평가를 80%, 15%, 5%로 분할을 수행\n",
    "# random_state -> 데이터셋을 내누는데 '재현성' 유지를 위해 넣음 -> 안넣어도 됨\n",
    "# stratify -> y 클래스 비율을 알기 어렵기에 해당 항목은 없앰\n",
    "src_train, src_etc, tar_train, tar_etc = train_test_split(\n",
    "    tokenized_src_data, tokenized_tar_data, test_size=0.20\n",
    ")\n",
    "\n",
    "# 그 외 데이터셋을 반반으로 Val, Test로 나눔\n",
    "src_val, src_test, tar_val, tar_test = train_test_split(\n",
    "    src_etc, tar_etc, test_size=0.25\n",
    ")"
   ]
  },
  {
   "cell_type": "code",
   "execution_count": 15,
   "metadata": {},
   "outputs": [
    {
     "name": "stdout",
     "output_type": "stream",
     "text": [
      "훈련 데이터셋 개수: 96265, 클래스 비율: 비율연산 불가 라벨데이터\n",
      "검증 데이터셋 개수: 18050, 클래스 비율: 비율연산 불가 라벨데이터\n",
      "평가 데이터셋 개수: 6017, 클래스 비율: 비율연산 불가 라벨데이터\n"
     ]
    }
   ],
   "source": [
    "val_class_ratio(src_train, tar_train, '훈련')\n",
    "val_class_ratio(src_val, tar_val, '검증')\n",
    "val_class_ratio(src_test, tar_test, '평가')"
   ]
  },
  {
   "cell_type": "code",
   "execution_count": 16,
   "metadata": {},
   "outputs": [],
   "source": [
    "from collections import Counter\n",
    "\n",
    "src_word_list = []\n",
    "tar_word_list = []\n",
    "# train항목을 워드 리스트에 입력\n",
    "for src_sent, tar_sent in zip(src_train, tar_train):\n",
    "    for word in src_sent:\n",
    "        src_word_list.append(word)\n",
    "    for word in tar_sent:\n",
    "        tar_word_list.append(word)\n",
    "# val항목을 워드 리스트에 입력\n",
    "for src_sent, tar_sent in zip(src_train, tar_train):\n",
    "    for word in src_sent:\n",
    "        src_word_list.append(word)\n",
    "    for word in tar_sent:\n",
    "        tar_word_list.append(word)\n",
    "\n",
    "# 단어와 해당 단어의 출몰 빈도를 함께 저장하는\n",
    "# Counter 타입의 변수 생성\n",
    "src_word_counts = Counter(src_word_list)\n",
    "tar_word_counts = Counter(tar_word_list)"
   ]
  },
  {
   "cell_type": "code",
   "execution_count": 17,
   "metadata": {},
   "outputs": [
    {
     "name": "stdout",
     "output_type": "stream",
     "text": [
      "총 단어 종류: 22489\n",
      "+--------+------------+\n",
      "| 단어   |   등장횟수 |\n",
      "+========+============+\n",
      "| ich    |      37296 |\n",
      "+--------+------------+\n",
      "| wander |        172 |\n",
      "+--------+------------+\n",
      "| ##e    |      24410 |\n",
      "+--------+------------+\n",
      "| uber   |      10268 |\n",
      "+--------+------------+\n",
      "| kiefer |         66 |\n",
      "+--------+------------+\n",
      "| ##nn   |         60 |\n",
      "+--------+------------+\n",
      "| ##adel |         18 |\n",
      "+--------+------------+\n"
     ]
    }
   ],
   "source": [
    "# src(원문)의 단어장 구성 확인\n",
    "val_raw_vocab(src_word_counts, 7)"
   ]
  },
  {
   "cell_type": "code",
   "execution_count": 18,
   "metadata": {},
   "outputs": [
    {
     "name": "stdout",
     "output_type": "stream",
     "text": [
      "총 단어 종류: 25692\n",
      "+--------+------------+\n",
      "| 단어   |   등장횟수 |\n",
      "+========+============+\n",
      "| 나는   |       6612 |\n",
      "+--------+------------+\n",
      "| 소나무 |         20 |\n",
      "+--------+------------+\n",
      "| 바늘   |         38 |\n",
      "+--------+------------+\n",
      "| 위     |        568 |\n",
      "+--------+------------+\n",
      "| ,      |      40388 |\n",
      "+--------+------------+\n",
      "| 마른   |         46 |\n",
      "+--------+------------+\n",
      "| ##와   |       9748 |\n",
      "+--------+------------+\n"
     ]
    }
   ],
   "source": [
    "# tar(번역문)의 단어장 구성 확인\n",
    "val_raw_vocab(tar_word_counts, 7)"
   ]
  },
  {
   "cell_type": "code",
   "execution_count": 19,
   "metadata": {},
   "outputs": [
    {
     "name": "stdout",
     "output_type": "stream",
     "text": [
      "---원문(src)에 대한 희소단어 분석---\n",
      "초기 단어장에 기록된 단어 종류 : 22489\n",
      "초기 단어장 중 희소단어(-1번 미만 등장) 종류 : 0\n",
      "초기 단어장 내 희소단어 비율 : 0.00 %\n",
      "전체 단어 중 희소단어 등장 비율 : 0.00 %\n",
      "\n",
      "---번역문(tar)에 대한 희소단어 분석---\n",
      "초기 단어장에 기록된 단어 종류 : 25692\n",
      "초기 단어장 중 희소단어(-1번 미만 등장) 종류 : 0\n",
      "초기 단어장 내 희소단어 비율 : 0.00 %\n",
      "전체 단어 중 희소단어 등장 비율 : 0.00 %\n"
     ]
    }
   ],
   "source": [
    "rare_th = 0 #희소단어의 등장 빈도를 결정하는 파라미터\n",
    "# 희소단어 등장 빈도를 바탕으로 희소 단어를 배제하기 위해 준비 함수\n",
    "print(f'---원문(src)에 대한 희소단어 분석---')\n",
    "src_tot_vocab_cnt, src_rare_vocab_cnt = set_rare_vocab(src_word_counts, rare_th, report=True)\n",
    "print(f'\\n---번역문(tar)에 대한 희소단어 분석---')\n",
    "tar_tot_vocab_cnt, tar_rare_vocab_cnt = set_rare_vocab(tar_word_counts, rare_th, report=True)"
   ]
  },
  {
   "cell_type": "code",
   "execution_count": 20,
   "metadata": {},
   "outputs": [],
   "source": [
    "#등장 빈도가 높은 단어 순으로 정렬하기\n",
    "src_vocab = sorted(src_word_counts, key=src_word_counts.get, reverse=True)\n",
    "tar_vocab = sorted(tar_word_counts, key=tar_word_counts.get, reverse=True)\n",
    "\n",
    "# 원문(src)에 대한 희소단어 배제 & 정렬 작업 수행\n",
    "src_vocab_size = src_tot_vocab_cnt - src_rare_vocab_cnt\n",
    "src_vocab = src_vocab[:src_vocab_size]\n",
    "# 번역문(tar에 대한 희소단어 배제 & 정렬 작업 수행\n",
    "tar_vocab_size = tar_tot_vocab_cnt - tar_rare_vocab_cnt\n",
    "tar_vocab = tar_vocab[:tar_vocab_size]"
   ]
  },
  {
   "cell_type": "code",
   "execution_count": 21,
   "metadata": {},
   "outputs": [
    {
     "name": "stdout",
     "output_type": "stream",
     "text": [
      "---원문(src)에 대한 단어장 분석---\n",
      "단어집합(vocab)은 word_to_idx를 통해서\n",
      "[단어 : idx]의 <class 'dict'>타입이 되고\n",
      "스페셜 토큰 <PAD> <UNK> <SOS> <EOS> 을 포함하여\n",
      "총 관리되는 단어 '22489' -> '22493'가 됨\n",
      "\n",
      "---번역문(tar)에 대한 단어장 분석---\n",
      "단어집합(vocab)은 word_to_idx를 통해서\n",
      "[단어 : idx]의 <class 'dict'>타입이 되고\n",
      "스페셜 토큰 <PAD> <UNK> <SOS> <EOS> 을 포함하여\n",
      "총 관리되는 단어 '25692' -> '25696'가 됨\n"
     ]
    }
   ],
   "source": [
    "# 스페셜 토큰 선언\n",
    "spec_token = ['<PAD>', '<UNK>', '<SOS>', '<EOS>']\n",
    "# 스페셜 토큰을 포함한 {단어:단어idx}의 딕셔너리 생성\n",
    "print(f'---원문(src)에 대한 단어장 분석---')\n",
    "src_to_idx, idx_to_src = set_word_to_idx(spec_token, src_vocab, \n",
    "                                         report=True)\n",
    "print(f'\\n---번역문(tar)에 대한 단어장 분석---')\n",
    "tar_to_idx, idx_to_tar = set_word_to_idx(spec_token, tar_vocab, \n",
    "                                         report=True)"
   ]
  },
  {
   "cell_type": "code",
   "execution_count": 22,
   "metadata": {},
   "outputs": [],
   "source": [
    "# 원문(src) 데이터셋의 정수 인코딩 수행\n",
    "e_src_train = text_to_sequences(src_train, src_to_idx)\n",
    "e_src_val = text_to_sequences(src_val, src_to_idx)\n",
    "e_src_test = text_to_sequences(src_test, src_to_idx)\n",
    "\n",
    "# 번역문(tar) 데이터셋의 정수 인코딩 수행\n",
    "e_tar_train = text_to_sequences(tar_train, tar_to_idx)\n",
    "e_tar_val = text_to_sequences(tar_val, tar_to_idx)\n",
    "e_tar_test = text_to_sequences(tar_test, tar_to_idx)"
   ]
  },
  {
   "cell_type": "code",
   "execution_count": 23,
   "metadata": {},
   "outputs": [
    {
     "name": "stdout",
     "output_type": "stream",
     "text": [
      "---원문(src)에 대한 인코딩결과 분석---\n",
      "토크나이징만 된 문장: ['doch', 'das', 'will', 'sich', 'mes', '##ek', 'natur', '##lich', 'nicht', 'gefallen', 'lassen', '.']\n",
      "정수인코딩 된 결과값: [56, 14, 132, 19, 5874, 1746, 229, 58, 25, 1163, 231, 4]\n",
      "디코드로 복원한 문장: ['doch', 'das', 'will', 'sich', 'mes', '##ek', 'natur', '##lich', 'nicht', 'gefallen', 'lassen', '.']\n",
      "정수인코딩은 올바르게 진행됨\n",
      "\n",
      "---번역문(tar)에 대한 인코딩결과 분석---\n",
      "토크나이징만 된 문장: ['그러나', '물론', '메', '##섹', '##은', '그것을', '참고', '싶지', '않습니다', '.']\n",
      "정수인코딩 된 결과값: [22, 648, 733, 14699, 12, 90, 12474, 637, 81, 4]\n",
      "디코드로 복원한 문장: ['그러나', '물론', '메', '##섹', '##은', '그것을', '참고', '싶지', '않습니다', '.']\n",
      "정수인코딩은 올바르게 진행됨\n"
     ]
    }
   ],
   "source": [
    "# 정수 인코딩 결과 확인\n",
    "import random\n",
    "sample_idx = random.randint(0, len(e_src_train)-1)\n",
    "\n",
    "print(f'---원문(src)에 대한 인코딩결과 분석---')\n",
    "val_encode_decode(sample_idx, idx_to_src, src_train, e_src_train)\n",
    "print(f'\\n---번역문(tar)에 대한 인코딩결과 분석---')\n",
    "val_encode_decode(sample_idx, idx_to_tar, tar_train, e_tar_train)"
   ]
  },
  {
   "cell_type": "code",
   "execution_count": 24,
   "metadata": {},
   "outputs": [],
   "source": [
    "def head_tail_insert(e_docs, spec_token):\n",
    "    en_sos = spec_token.index('<SOS>')\n",
    "    en_eos = spec_token.index('<EOS>')\n",
    "\n",
    "    res_e_doc = []\n",
    "    for e_doc in e_docs:\n",
    "        e_doc.insert(0, en_sos) #맨앞에 sos토큰추가\n",
    "        e_doc.append(en_eos) #맨 뒤에 eos토큰 추가\n",
    "\n",
    "        res_e_doc.append(e_doc)\n",
    "\n",
    "    return res_e_doc"
   ]
  },
  {
   "cell_type": "code",
   "execution_count": 25,
   "metadata": {},
   "outputs": [],
   "source": [
    "# 번역문(tar)의 접두/접미에 SOS, EOS 토큰 추가\n",
    "e_tar_train = head_tail_insert(e_tar_train, spec_token)\n",
    "e_tar_val = head_tail_insert(e_tar_val, spec_token)\n",
    "e_tar_test = head_tail_insert(e_tar_test, spec_token)"
   ]
  },
  {
   "cell_type": "code",
   "execution_count": 26,
   "metadata": {},
   "outputs": [
    {
     "name": "stdout",
     "output_type": "stream",
     "text": [
      "토크나이징만 된 문장: ['그러나', '물론', '메', '##섹', '##은', '그것을', '참고', '싶지', '않습니다', '.']\n",
      "정수인코딩 된 결과값: [2, 22, 648, 733, 14699, 12, 90, 12474, 637, 81, 4, 3]\n",
      "디코드로 복원한 문장: ['<SOS>', '그러나', '물론', '메', '##섹', '##은', '그것을', '참고', '싶지', '않습니다', '.', '<EOS>']\n",
      "정수인코딩에 문제가 있음\n"
     ]
    }
   ],
   "source": [
    "val_encode_decode(sample_idx, idx_to_tar, tar_train, e_tar_train)"
   ]
  },
  {
   "cell_type": "code",
   "execution_count": 27,
   "metadata": {},
   "outputs": [
    {
     "name": "stdout",
     "output_type": "stream",
     "text": [
      "훈련 데이터셋 최대 길이: 57\n",
      "훈련 데이터셋 평균 길이: 16.70\n"
     ]
    },
    {
     "data": {
      "image/png": "[encoded data removed]",
      "text/plain": [
       "<Figure size 640x480 with 1 Axes>"
      ]
     },
     "metadata": {},
     "output_type": "display_data"
    },
    {
     "name": "stdout",
     "output_type": "stream",
     "text": [
      "데이터셋 문장 길이가 60 이하 데이터 비율: 100.00%\n"
     ]
    }
   ],
   "source": [
    "src_seq_len = 60\n",
    "set_sent_pad(e_src_train, src_seq_len, report=True)"
   ]
  },
  {
   "cell_type": "code",
   "execution_count": 28,
   "metadata": {},
   "outputs": [
    {
     "name": "stdout",
     "output_type": "stream",
     "text": [
      "훈련 데이터셋 최대 길이: 55\n",
      "훈련 데이터셋 평균 길이: 15.82\n"
     ]
    },
    {
     "data": {
      "image/png": "[encoded data removed]",
      "text/plain": [
       "<Figure size 640x480 with 1 Axes>"
      ]
     },
     "metadata": {},
     "output_type": "display_data"
    },
    {
     "name": "stdout",
     "output_type": "stream",
     "text": [
      "데이터셋 문장 길이가 55 이하 데이터 비율: 100.00%\n"
     ]
    }
   ],
   "source": [
    "tar_seq_len = 55\n",
    "set_sent_pad(e_tar_train, tar_seq_len, report=True)"
   ]
  },
  {
   "cell_type": "code",
   "execution_count": 29,
   "metadata": {},
   "outputs": [],
   "source": [
    "# 원문(src)의 문장 패딩(정수인코딩 완료)\n",
    "padded_src_train = pad_seq_x(e_src_train, src_seq_len)\n",
    "padded_src_val = pad_seq_x(e_src_val, src_seq_len)\n",
    "padded_src_test = pad_seq_x(e_src_test, src_seq_len)\n",
    "\n",
    "# 번역문(tar)의 문장 패딩(정수인코딩 완료)\n",
    "padded_tar_train = pad_seq_x(e_tar_train, tar_seq_len)\n",
    "padded_tar_val = pad_seq_x(e_tar_val, tar_seq_len)\n",
    "padded_tar_test = pad_seq_x(e_tar_test, tar_seq_len)"
   ]
  },
  {
   "cell_type": "code",
   "execution_count": 30,
   "metadata": {},
   "outputs": [
    {
     "name": "stdout",
     "output_type": "stream",
     "text": [
      "---원문(src) 문장 패딩 결과---\n",
      "훈련용 정수(원핫)인코딩 shape: (96265, 60)\n",
      "검증용 정수(원핫)인코딩 shape: (18050, 60)\n",
      "평가용 정수(원핫)인코딩 shape: (6017, 60)\n",
      "\n",
      "---번역문(tar) 문장 패딩 결과---\n",
      "훈련용 정수(원핫)인코딩 shape: (96265, 55)\n",
      "검증용 정수(원핫)인코딩 shape: (18050, 55)\n",
      "평가용 정수(원핫)인코딩 shape: (6017, 55)\n"
     ]
    }
   ],
   "source": [
    "print(f'---원문(src) 문장 패딩 결과---')\n",
    "val_pad_shape(padded_src_train, '훈련')\n",
    "val_pad_shape(padded_src_val, '검증')\n",
    "val_pad_shape(padded_src_test, '평가')\n",
    "print(f'\\n---번역문(tar) 문장 패딩 결과---')\n",
    "val_pad_shape(padded_tar_train, '훈련')\n",
    "val_pad_shape(padded_tar_val, '검증')\n",
    "val_pad_shape(padded_tar_test, '평가')"
   ]
  },
  {
   "cell_type": "code",
   "execution_count": 31,
   "metadata": {},
   "outputs": [
    {
     "name": "stdout",
     "output_type": "stream",
     "text": [
      "훈련용 X(인코딩)데이터 크기: [96265, 60]\n",
      "훈련용 Y(Label)데이터 크기: [96265, 55]\n",
      "검증용 X(인코딩)데이터 크기: [18050, 60]\n",
      "검증용 Y(Label)데이터 크기: [18050, 55]\n",
      "평가용 X(인코딩)데이터 크기: [6017, 60]\n",
      "평가용 Y(Label)데이터 크기: [6017, 55]\n"
     ]
    }
   ],
   "source": [
    "import torch\n",
    "bs = 256 # Batch_size 하이퍼 파라미터\n",
    "\n",
    "# 정수(원핫)인코딩 데이터를 데이터로더로 변환\n",
    "trainloader = set_dataloader(padded_src_train, padded_tar_train, bs, \n",
    "                             content='훈련', report=True)\n",
    "valloader = set_dataloader(padded_src_val, padded_tar_val, bs,\n",
    "                           content='검증', report=True)\n",
    "testloader = set_dataloader(padded_src_test, padded_tar_test, bs, \n",
    "                            content='평가', report=True)"
   ]
  },
  {
   "cell_type": "code",
   "execution_count": 32,
   "metadata": {},
   "outputs": [],
   "source": [
    "# 주요 하이퍼 파라미터 정리\n",
    "src_VS = len(src_to_idx) # 원문 단어장 개수\n",
    "tar_VS = len(tar_to_idx) # 번역문 단어장 개수\n",
    "src_SL = src_seq_len # 원문의 문장 길이\n",
    "# 번역문의 문장 길이를 디코더(생성)문장 길이로 쓰자\n",
    "tar_SL = tar_seq_len # 번역문 문장 길이\n",
    "\n",
    "EMB_DIM = 384 # 인코더/디코더의 임베딩 레이어 차원\n",
    "# unit_dim은 인코더-디코더 사이의 히든레이어처럼 생각하는게 편함\n",
    "UNIT_DIM = 256 # 인코더와 디코더의 rnn_out 차원값\n",
    "\n",
    "NUM_Layers = 2 # 인코더/디코더의 셀은 2층으로 만들자\n",
    "BI_DIR = False # 단방향으로만 학습"
   ]
  },
  {
   "cell_type": "code",
   "execution_count": 33,
   "metadata": {},
   "outputs": [
    {
     "name": "stdout",
     "output_type": "stream",
     "text": [
      "+-------------------------+-------------+\n",
      "| 하이퍼 파라미터         | 값          |\n",
      "+=========================+=============+\n",
      "| 원문 단어장 개수        | 22493개     |\n",
      "+-------------------------+-------------+\n",
      "| 번역문 단어장 개수      | 25696개     |\n",
      "+-------------------------+-------------+\n",
      "| 원문 문장 길이          | 60토큰      |\n",
      "+-------------------------+-------------+\n",
      "| 번역문 문장 길이        | 55토큰      |\n",
      "+-------------------------+-------------+\n",
      "| 원문/번역문 임베딩 차원 | 384         |\n",
      "+-------------------------+-------------+\n",
      "| 인코더-디코더 연결 차원 | 256         |\n",
      "+-------------------------+-------------+\n",
      "| 셀 층 개수              | 2층         |\n",
      "+-------------------------+-------------+\n",
      "| 양방향/단방향           | 단방향 학습 |\n",
      "+-------------------------+-------------+\n"
     ]
    }
   ],
   "source": [
    "from tabulate import tabulate\n",
    "\n",
    "# 출력할 데이터를 리스트 형식으로 준비\n",
    "data = [\n",
    "    [\"원문 단어장 개수\", f\"{src_VS}개\"],\n",
    "    [\"번역문 단어장 개수\", f\"{tar_VS}개\"],\n",
    "    [\"원문 문장 길이\", f\"{src_SL}토큰\"],\n",
    "    [\"번역문 문장 길이\", f\"{tar_SL}토큰\"],\n",
    "    [\"원문/번역문 임베딩 차원\", EMB_DIM],\n",
    "    [\"인코더-디코더 연결 차원\", UNIT_DIM],\n",
    "    [\"셀 층 개수\", f\"{NUM_Layers}층\"],\n",
    "    [\"양방향/단방향\", \"단방향 학습\"],\n",
    "]\n",
    "\n",
    "# 표 형식으로 출력\n",
    "print(tabulate(data, headers=[\"하이퍼 파라미터\", \"값\"], \n",
    "               tablefmt=\"grid\"))"
   ]
  },
  {
   "cell_type": "code",
   "execution_count": 55,
   "metadata": {},
   "outputs": [],
   "source": [
    "import torch.nn as nn\n",
    "\n",
    "class Encoder(nn.Module):\n",
    "    def __init__(self, rnn_cell, # 백본 셀이 어떤 종류인지 정의\n",
    "                 src_vocab, src_emb_dim, rnn_dim, \n",
    "                 num_layer=1, bi=False):\n",
    "        super(Encoder, self).__init__()\n",
    "        # <PAD>토큰의 인덱싱을 지정하면 해당 idx(0)은\n",
    "        # word_vector을 만들 때 모두 0으로 채워지게 만들어준다.\n",
    "        self.embed = nn.Embedding(src_vocab, src_emb_dim,\n",
    "                                  padding_idx=0)\n",
    "        # 백본 셀을 LSTM / GRU중 선택하기\n",
    "        if rnn_cell.lower() == 'lstm':\n",
    "            self.rnn_cell = nn.LSTM\n",
    "        elif rnn_cell.lower() == 'gru':\n",
    "            self.rnn_cell = nn.GRU\n",
    "        else:\n",
    "            raise ValueError(\"백본 셀 잘못 입력\")\n",
    "        self.rnn = self.rnn_cell(input_size=src_emb_dim,#언어모델 입력차원\n",
    "                                hidden_size=rnn_dim,   #언어모델 출력차원\n",
    "                                num_layers=num_layer,  #언어모델 몇층?\n",
    "                                bidirectional=bi,      #양방향학습 On?\n",
    "                                batch_first=True)      #왠만하면 True\n",
    "    \n",
    "    def forward(self, x): # x의 차원 : (BS, src_seq_len)\n",
    "        emb = self.embed(x) # (BS, src_seq_len, src_emb_dim)\n",
    "        # 인코더에 양방향 학습을 적용한다\n",
    "        # rnn_out : (bs, src_seq_len, hidden_dim * 2)\n",
    "        # hidden : (num_layer * 2, bs, hidden_dim)\n",
    "        rnn_out , hidden = self.rnn(emb)\n",
    "        #인코더의 출력은 context_vector\n",
    "        return hidden"
   ]
  },
  {
   "cell_type": "code",
   "execution_count": 56,
   "metadata": {},
   "outputs": [],
   "source": [
    "import torch.nn as nn\n",
    "\n",
    "class Decoder(nn.Module):\n",
    "    def __init__(self, rnn_cell, # 백본 셀이 어떤 종류인지 정의\n",
    "                 tar_vocab, tar_emb_dim, rnn_dim,\n",
    "                 num_layer=1, bi=False):\n",
    "        super(Decoder, self).__init__()\n",
    "        # <PAD>토큰의 인덱싱을 지정하면 해당 idx(0)은\n",
    "        # word_vector을 만들 때 모두 0으로 채워지게 만들어준다.\n",
    "        self.embed = nn.Embedding(tar_vocab, tar_emb_dim,\n",
    "                                  padding_idx=0)\n",
    "        # 백본 셀을 LSTM / GRU중 선택하기\n",
    "        if rnn_cell.lower() == 'lstm':\n",
    "            self.rnn_cell = nn.LSTM\n",
    "        elif rnn_cell.lower() == 'gru':\n",
    "            self.rnn_cell = nn.GRU\n",
    "        else:\n",
    "            raise ValueError(\"백본 셀 잘못 입력\")\n",
    "        self.rnn = self.rnn_cell(input_size=tar_emb_dim,#언어모델 입력차원\n",
    "                                hidden_size=rnn_dim,   #언어모델 출력차원\n",
    "                                num_layers=num_layer,  #언어모델 몇층?\n",
    "                                bidirectional=bi,      #양방향학습 On?\n",
    "                                batch_first=True)      #왠만하면 True)\n",
    "        # 디코더의 출력은 정답(번역문)의 seq_len이 되게 해야함\n",
    "        # 맞춰야 하는 클래스 개수는 정답지의 단어 개수임\n",
    "        if bi : #양방향으로 학습시에는 FC 레이어 입력차원이 두배\n",
    "            self.fc = nn.Linear(rnn_dim*2, tar_vocab)\n",
    "        else:\n",
    "            self.fc = nn.Linear(rnn_dim, tar_vocab)\n",
    "    \n",
    "    # 디코더는 인코더의 context_vector을 초기 hidden으로 입력받는다.\n",
    "    def forward(self, x, hidden): # x의 차원 : (BS, tar_seq_len)\n",
    "        emb = self.embed(x) # (BS, tar_seq_len, tar_emb_dim)\n",
    "        # 디코더에 양방향 학습을 적용한다\n",
    "        # rnn_out : (bs, tar_seq_len, hidden_dim * 2)\n",
    "        # hidden : (num_layer * 2, bs, hidden_dim)\n",
    "        rnn_out, hidden = self.rnn(emb, hidden)\n",
    "        \n",
    "        output = self.fc(rnn_out)\n",
    "        # 최종 출력은 (bs, seq_len, tar_vocab)\n",
    "        return output, hidden"
   ]
  },
  {
   "cell_type": "code",
   "execution_count": 57,
   "metadata": {},
   "outputs": [],
   "source": [
    "import torch\n",
    "import torch.nn as nn\n",
    "\n",
    "class Seq2Seq(nn.Module):\n",
    "    def __init__(self, encoder, decoder, max_len=None):\n",
    "        super(Seq2Seq, self).__init__()\n",
    "        self.encode = encoder\n",
    "        self.decode = decoder\n",
    "        # 최대 디코딩 길이 설정\n",
    "        self.max_len = max_len\n",
    "\n",
    "    def forward(self, src, tar=None, spec_token=None):\n",
    "        # 인코더의 출력 = context_vector\n",
    "        context_h = self.encode(src)\n",
    "\n",
    "        if tar is not None:\n",
    "            # 훈련시의 디코더 출력 : 고정길이로 출력한다.\n",
    "            outputs, _ = self.decode(tar, context_h)\n",
    "            # 훈련시 출력의 seq_len은 tar(번역문)의 seq_len이다.\n",
    "            return outputs #(BS, seq_len, tar_vocab)\n",
    "        \n",
    "        else: # 정답지가 없는 평가모드\n",
    "            # 배치사이즈, 연산위치 정보 추출\n",
    "            BS, src_seq_len = src.size() \n",
    "            device = src.device\n",
    "\n",
    "            # 스페셜 토큰에서 SOS, EOS, PAD의 정수인코딩값 추출\n",
    "            en_sos = spec_token.index('<SOS>')\n",
    "            en_eos = spec_token.index('<EOS>')\n",
    "            en_pad = spec_token.index('<PAD>')\n",
    "\n",
    "            # 디코더에 입력할 첫번째 토큰을 (bs, 1) 차원에\n",
    "            # 토큰값은 '<SOS>'토큰으로 채움\n",
    "            input_token = torch.tensor([[en_sos]] * BS).to(device)\n",
    "            outputs = [] # 출력 디코드 결과를 저장\n",
    "\n",
    "            # 최대 디코딩 길이 지정 안했으면 원문 seq_len을 쓰자\n",
    "            if self.max_len is None:\n",
    "                self.max_len = src_seq_len\n",
    "            \n",
    "            # EOS를 샘플별로 예측하면 그 뒷단을 PAD로 채우는 flag 텐서\n",
    "            pad_mask_flag = torch.zeros(BS, dtype=torch.bool, \n",
    "                                        device=device)\n",
    "            # 만약에 Batch내 샘플이 <EOS>예측했다면 해당 샘플의 flag가 올라간다.\n",
    "\n",
    "            # 토큰 단위로 예측이니 자가 회귀 방식임\n",
    "            h = context_h\n",
    "            for _ in range(self.max_len):\n",
    "                # 토큰단위로 입력이니 출력은 (bs, 1, tar_vocab)이다.\n",
    "                out_tokens, h = self.decode(input_token, h)\n",
    "\n",
    "                # 추론 과정이니 next_token은\n",
    "                # Greedy Search-> (bs, 1)결과가 됨\n",
    "                next_token = out_tokens.argmax(dim=-1)\n",
    "                outputs.append(next_token)\n",
    "\n",
    "                # 배치 내 샘플이 <EOS>토큰을 예측한다면 해당샘플의 flag를 True로 올린다.\n",
    "                # 이때 next_token = (bs, 1) -> (bs)로 차원 축소 후 인디케이터 연산해야함\n",
    "                eos_indices = (next_token.squeeze(1) == en_eos)\n",
    "                # OR연산이니까 EOS예측된 마스크는 계속 True로 남는다.\n",
    "                pad_mask_flag = pad_mask_flag | eos_indices\n",
    "\n",
    "                # 모든 샘플에서 EOS를 예측한 경우, 더이상 수행하지 않고 탈출\n",
    "                if pad_mask_flag.all():\n",
    "                    break\n",
    "\n",
    "                # 자가 회귀방식이니 다음 입력을 갱신한다.\n",
    "                input_token = torch.where(pad_mask_flag.unsqueeze(1), \n",
    "                                          torch.full_like(next_token, en_pad), \n",
    "                                          next_token)\n",
    "            \n",
    "            # 예측된 단어들을 모아서 최종 출력으로 반환\n",
    "            # 이때 최종 출력은 # (BS, max_len) 규격을 맞추기 위해\n",
    "            # PAD토큰을 채우는 과정을 수행한다.\n",
    "            while len(outputs) < self.max_len:\n",
    "                outputs.append(torch.full((BS, 1), en_pad, \n",
    "                                          device=device))\n",
    "\n",
    "            outputs = torch.cat(outputs, dim=1)  # (BS, max_len)\n",
    "            return outputs"
   ]
  },
  {
   "cell_type": "code",
   "execution_count": 40,
   "metadata": {},
   "outputs": [],
   "source": [
    "# 학습 실험 조건을 구분하기 위한 키\n",
    "model_key = ['LSTM', 'GRU']\n",
    "metrics_key = ['Loss', '정확도']"
   ]
  },
  {
   "cell_type": "code",
   "execution_count": 58,
   "metadata": {},
   "outputs": [],
   "source": [
    "# Seq2Seq의 LSTM버전 인스턴스화\n",
    "encoder_lstm = Encoder('LSTM', src_VS, EMB_DIM, UNIT_DIM, \n",
    "                            num_layer=NUM_Layers, bi=BI_DIR)\n",
    "eecoder_lstm = Decoder('LSTM', tar_VS, EMB_DIM, UNIT_DIM,\n",
    "                            num_layer=NUM_Layers, bi=BI_DIR)\n",
    "Translater_lstm = Seq2Seq(encoder_lstm, eecoder_lstm,max_len=tar_SL)\n",
    "\n",
    "# Seq2Seq의 GRU버전 인스턴스화\n",
    "encoder_gru = Encoder('GRU', src_VS, EMB_DIM, UNIT_DIM, \n",
    "                            num_layer=NUM_Layers, bi=BI_DIR)\n",
    "eecoder_gru = Decoder('GRU', tar_VS, EMB_DIM, UNIT_DIM,\n",
    "                            num_layer=NUM_Layers, bi=BI_DIR)\n",
    "Translater_gru = Seq2Seq(encoder_gru, eecoder_gru,max_len=tar_SL)"
   ]
  },
  {
   "cell_type": "code",
   "execution_count": 59,
   "metadata": {},
   "outputs": [],
   "source": [
    "# GPU사용 가능 유/무 확인\n",
    "device = torch.device(\"cuda\" if torch.cuda.is_available() else 'cpu')\n",
    "models = {} # 딕셔너리\n",
    "\n",
    "models[model_key[0]] = Translater_lstm.to(device)\n",
    "models[model_key[1]] = Translater_gru.to(device)"
   ]
  },
  {
   "cell_type": "code",
   "execution_count": 60,
   "metadata": {},
   "outputs": [],
   "source": [
    "import torch.optim as optim\n",
    "# 로스함수 및 옵티마이저 설계\n",
    "# 로스함수에서 <PAD> 토큰의 정수인덱스 번호 -> 0번에 대해서는\n",
    "# 틀리건 맞건 무시하겠다 : ignore_index에 해당 정수 인덱스 번호 기입\n",
    "ignore_class_idx = spec_token.index('<PAD>')\n",
    "criterion = nn.CrossEntropyLoss(ignore_index=ignore_class_idx)\n",
    "\n",
    "LR = 0.001 # 러닝레이트는 통일\n",
    "optimizers = {}\n",
    "\n",
    "optimizers[model_key[0]] = optim.Adam(Translater_lstm.parameters(), lr=LR)\n",
    "optimizers[model_key[1]] = optim.Adam(Translater_gru.parameters(), lr=LR)"
   ]
  },
  {
   "cell_type": "code",
   "execution_count": 61,
   "metadata": {},
   "outputs": [],
   "source": [
    "# 학습/검증 정보 저장\n",
    "history = {key: {metric: [] \n",
    "                for metric in metrics_key} \n",
    "           for key in model_key}"
   ]
  },
  {
   "cell_type": "code",
   "execution_count": 62,
   "metadata": {},
   "outputs": [],
   "source": [
    "from Seq_trainer import *\n",
    "\n",
    "num_epoch = 8 #총 훈련/검증 epoch값\n",
    "ES = 2 # 디스플레이용 에포크 스텝"
   ]
  },
  {
   "cell_type": "code",
   "execution_count": 63,
   "metadata": {},
   "outputs": [
    {
     "name": "stdout",
     "output_type": "stream",
     "text": [
      "\n",
      "--현재 훈련중인 조건: [Seq2Seq_LSTM]--\n"
     ]
    },
    {
     "name": "stderr",
     "output_type": "stream",
     "text": [
      "[훈련중]로스: 4.460, 정확도: 0.483: 100%|██████████| 377/377 [00:19<00:00, 18.93it/s]\n",
      "100%|██████████| 71/71 [00:01<00:00, 47.53it/s]\n"
     ]
    },
    {
     "name": "stdout",
     "output_type": "stream",
     "text": [
      "epoch 001,\t훈련 [Loss: 4.460, Acc: 48.32%]\n",
      "epoch 001,\t검증 [Loss: 1.904, Acc: 80.72%]\n"
     ]
    },
    {
     "name": "stderr",
     "output_type": "stream",
     "text": [
      "[훈련중]로스: 1.011, 정확도: 0.908: 100%|██████████| 377/377 [00:19<00:00, 19.26it/s]\n",
      "100%|██████████| 71/71 [00:01<00:00, 48.09it/s]\n"
     ]
    },
    {
     "name": "stdout",
     "output_type": "stream",
     "text": [
      "epoch 002,\t훈련 [Loss: 1.011, Acc: 90.78%]\n",
      "epoch 002,\t검증 [Loss: 0.507, Acc: 96.01%]\n"
     ]
    },
    {
     "name": "stderr",
     "output_type": "stream",
     "text": [
      "[훈련중]로스: 0.103, 정확도: 0.993: 100%|██████████| 377/377 [00:19<00:00, 19.21it/s]\n",
      "100%|██████████| 71/71 [00:01<00:00, 48.61it/s]\n"
     ]
    },
    {
     "name": "stdout",
     "output_type": "stream",
     "text": [
      "epoch 004,\t훈련 [Loss: 0.103, Acc: 99.33%]\n",
      "epoch 004,\t검증 [Loss: 0.097, Acc: 99.35%]\n"
     ]
    },
    {
     "name": "stderr",
     "output_type": "stream",
     "text": [
      "[훈련중]로스: 0.023, 정확도: 0.998: 100%|██████████| 377/377 [00:19<00:00, 19.16it/s]\n",
      "100%|██████████| 71/71 [00:01<00:00, 48.09it/s]\n"
     ]
    },
    {
     "name": "stdout",
     "output_type": "stream",
     "text": [
      "epoch 006,\t훈련 [Loss: 0.023, Acc: 99.84%]\n",
      "epoch 006,\t검증 [Loss: 0.048, Acc: 99.73%]\n"
     ]
    },
    {
     "name": "stderr",
     "output_type": "stream",
     "text": [
      "[훈련중]로스: 0.007, 정확도: 1.000: 100%|██████████| 377/377 [00:19<00:00, 19.28it/s]\n",
      "100%|██████████| 71/71 [00:01<00:00, 47.54it/s]\n"
     ]
    },
    {
     "name": "stdout",
     "output_type": "stream",
     "text": [
      "epoch 008,\t훈련 [Loss: 0.007, Acc: 100.00%]\n",
      "epoch 008,\t검증 [Loss: 0.035, Acc: 99.80%]\n",
      "--[Seq2Seq_LSTM] 훈련 종료--\n",
      "\n",
      "\n",
      "--현재 훈련중인 조건: [Seq2Seq_GRU]--\n"
     ]
    },
    {
     "name": "stderr",
     "output_type": "stream",
     "text": [
      "[훈련중]로스: 2.286, 정확도: 0.765: 100%|██████████| 377/377 [00:19<00:00, 19.20it/s]\n",
      "100%|██████████| 71/71 [00:01<00:00, 47.72it/s]\n"
     ]
    },
    {
     "name": "stdout",
     "output_type": "stream",
     "text": [
      "epoch 001,\t훈련 [Loss: 2.286, Acc: 76.46%]\n",
      "epoch 001,\t검증 [Loss: 0.253, Acc: 98.27%]\n"
     ]
    },
    {
     "name": "stderr",
     "output_type": "stream",
     "text": [
      "[훈련중]로스: 0.109, 정확도: 0.993: 100%|██████████| 377/377 [00:19<00:00, 19.33it/s]\n",
      "100%|██████████| 71/71 [00:01<00:00, 47.13it/s]\n"
     ]
    },
    {
     "name": "stdout",
     "output_type": "stream",
     "text": [
      "epoch 002,\t훈련 [Loss: 0.109, Acc: 99.28%]\n",
      "epoch 002,\t검증 [Loss: 0.067, Acc: 99.53%]\n"
     ]
    },
    {
     "name": "stderr",
     "output_type": "stream",
     "text": [
      "[훈련중]로스: 0.009, 정확도: 1.000: 100%|██████████| 377/377 [00:19<00:00, 19.30it/s]\n",
      "100%|██████████| 71/71 [00:01<00:00, 48.50it/s]\n"
     ]
    },
    {
     "name": "stdout",
     "output_type": "stream",
     "text": [
      "epoch 004,\t훈련 [Loss: 0.009, Acc: 99.99%]\n",
      "epoch 004,\t검증 [Loss: 0.030, Acc: 99.80%]\n"
     ]
    },
    {
     "name": "stderr",
     "output_type": "stream",
     "text": [
      "[훈련중]로스: 0.002, 정확도: 1.000: 100%|██████████| 377/377 [00:19<00:00, 19.36it/s]\n",
      "100%|██████████| 71/71 [00:01<00:00, 49.11it/s]\n"
     ]
    },
    {
     "name": "stdout",
     "output_type": "stream",
     "text": [
      "epoch 006,\t훈련 [Loss: 0.002, Acc: 100.00%]\n",
      "epoch 006,\t검증 [Loss: 0.028, Acc: 99.80%]\n"
     ]
    },
    {
     "name": "stderr",
     "output_type": "stream",
     "text": [
      "[훈련중]로스: 0.001, 정확도: 1.000: 100%|██████████| 377/377 [00:19<00:00, 19.25it/s]\n",
      "100%|██████████| 71/71 [00:01<00:00, 48.84it/s]"
     ]
    },
    {
     "name": "stdout",
     "output_type": "stream",
     "text": [
      "epoch 008,\t훈련 [Loss: 0.001, Acc: 100.00%]\n",
      "epoch 008,\t검증 [Loss: 0.027, Acc: 99.80%]\n",
      "--[Seq2Seq_GRU] 훈련 종료--\n",
      "\n"
     ]
    },
    {
     "name": "stderr",
     "output_type": "stream",
     "text": [
      "\n"
     ]
    }
   ],
   "source": [
    "for key in model_key:\n",
    "    print(f\"\\n--현재 훈련중인 조건: [Seq2Seq_{key}]--\") # 조건에 맞는 실험시작\n",
    "    for epoch in range(num_epoch): #에포크별 모델 훈련/검증\n",
    "        # 모델 훈련\n",
    "        train_loss, train_acc = model_train(\n",
    "            models[key], trainloader, criterion,\n",
    "            optimizers[key], epoch, ES,\n",
    "            ignore_class=ignore_class_idx #무시할 클래스 인덱스\n",
    "        ) \n",
    "        #모델 검증\n",
    "        val_loss, val_acc = model_evaluate(\n",
    "            models[key], valloader, criterion,\n",
    "            epoch, ES, \n",
    "            ignore_class=ignore_class_idx #무시할 클래스 인덱스\n",
    "        )\n",
    "\n",
    "        # 손실 및 성과 지표를 history에 저장\n",
    "        history[key]['Loss'].append((train_loss, val_loss))\n",
    "        history[key]['정확도'].append((train_acc, val_acc))\n",
    "\n",
    "        # Epoch_step(ES)일 때마다 print수행\n",
    "        if (epoch+1) % ES == 0 or epoch == 0:\n",
    "            print(f\"epoch {epoch+1:03d},\" + \"\\t\" + \n",
    "                f\"훈련 [Loss: {train_loss:.3f}, \" +\n",
    "                f\"Acc: {train_acc*100:.2f}%]\")\n",
    "            print(f\"epoch {epoch+1:03d},\" + \"\\t\" + \n",
    "                f\"검증 [Loss: {val_loss:.3f}, \" +\n",
    "                f\"Acc: {val_acc*100:.2f}%]\")\n",
    "    print(f\"--[Seq2Seq_{key}] 훈련 종료--\\n\") # 조건에 맞는 실험종료"
   ]
  },
  {
   "cell_type": "code",
   "execution_count": 64,
   "metadata": {},
   "outputs": [],
   "source": [
    "import matplotlib.pyplot as plt\n",
    "# 한글 사용을 위한 폰트 포함\n",
    "plt.rcParams['font.family'] = 'Malgun Gothic'\n",
    "plt.rcParams['axes.unicode_minus'] = False"
   ]
  },
  {
   "cell_type": "code",
   "execution_count": 65,
   "metadata": {},
   "outputs": [],
   "source": [
    "# 학습/검증 결과 데이터를 재배치\n",
    "res_data = {}\n",
    "\n",
    "for key in model_key:\n",
    "    res_data[key] = {}\n",
    "    for metric in metrics_key:\n",
    "        # 각 모델의 메트릭 데이터 추출\n",
    "        metric_data = history[key][metric]\n",
    "        # 훈련 및 검증 값 분리\n",
    "        train_values = [tup[0] for tup in metric_data]\n",
    "        val_values = [tup[1] for tup in metric_data]\n",
    "        res_data[key][f'훈련_{metric}'] = train_values\n",
    "        res_data[key][f'검증_{metric}'] = val_values"
   ]
  },
  {
   "cell_type": "code",
   "execution_count": 66,
   "metadata": {},
   "outputs": [
    {
     "data": {
      "image/png": "[encoded data removed]",
      "text/plain": [
       "<Figure size 1200x1200 with 4 Axes>"
      ]
     },
     "metadata": {},
     "output_type": "display_data"
    }
   ],
   "source": [
    "# 손실 및 정확도 그래프 그리기 그래프 생성\n",
    "fig, axes = plt.subplots(2, 2, figsize=(12, 12))\n",
    "axes = axes.flatten()  # 2차원 배열을 1차원으로 변환하여 인덱싱 쉽게 함\n",
    "\n",
    "# 손실 그래프 그리기\n",
    "for idx, key in enumerate(model_key):\n",
    "    ax = axes[idx*2] #손실 그래프는 0, 2번째에 위치\n",
    "    ax.plot(res_data[key]['훈련_Loss'], label='훈련 로스')\n",
    "    ax.plot(res_data[key]['검증_Loss'], label='검증 로스')\n",
    "\n",
    "    ax.set_title(f'Seq2Seq_{key} 번역 Loss', fontsize=16)\n",
    "    ax.set_xlabel('Epoch')\n",
    "    ax.set_ylabel('Loss')\n",
    "    ax.legend()\n",
    "\n",
    "# 정확도 그래프 그리기\n",
    "for idx, key in enumerate(model_key):\n",
    "    ax = axes[idx*2 + 1] #정확도 그래프는 1, 3번째에 위치\n",
    "    ax.plot(res_data[key]['훈련_정확도'], label='훈련 정확도')\n",
    "    ax.plot(res_data[key]['검증_정확도'], label='검증 정확도')\n",
    "    ax.set_title(f'Seq2Seq_{key} 번역 정확도', fontsize=16)\n",
    "    ax.set_xlabel('Epoch')\n",
    "    ax.set_ylabel('정확도')\n",
    "    ax.legend()\n",
    "\n",
    "\n",
    "plt.tight_layout()\n",
    "plt.show()"
   ]
  },
  {
   "cell_type": "code",
   "execution_count": 50,
   "metadata": {},
   "outputs": [
    {
     "data": {
      "image/png": "[encoded data removed]",
      "text/plain": [
       "<Figure size 1600x800 with 2 Axes>"
      ]
     },
     "metadata": {},
     "output_type": "display_data"
    }
   ],
   "source": [
    "# 모든 모델의 손실과 정확도를 비교하는 그래프 생성\n",
    "fig, axes = plt.subplots(1, 2, figsize=(16, 8))\n",
    "\n",
    "# 모든 모델의 손실 그래프\n",
    "ax = axes[0]\n",
    "for key in model_key:\n",
    "    ax.plot(res_data[key]['훈련_Loss'], label=f'Seq2Se2_{key} 훈련 로스')\n",
    "    ax.plot(res_data[key]['검증_Loss'], label=f'Seq2Se2_{key} 검증 로스', linestyle='--')\n",
    "ax.set_title('모든 조건별 모델의 훈련/검증 Loss', fontsize=16)\n",
    "ax.set_xlabel('Epoch')\n",
    "ax.set_ylabel('Loss')\n",
    "ax.legend(fontsize=16)  # 범례의 폰트 크기 설정\n",
    "\n",
    "# 모든 모델의 정확도 그래프\n",
    "ax = axes[1]\n",
    "for key in model_key:\n",
    "    ax.plot(res_data[key]['훈련_정확도'], label=f'Seq2Se2_{key} 훈련 정확도')\n",
    "    ax.plot(res_data[key]['검증_정확도'], label=f'Seq2Se2_{key} 검증 정확도', linestyle='--')\n",
    "ax.set_title('모든 조건별 모델의 훈련/검증 정확도', fontsize=16)\n",
    "ax.set_xlabel('Epoch')\n",
    "ax.set_ylabel('정확도')\n",
    "ax.legend(fontsize=16)  # 범례의 폰트 크기 설정\n",
    "\n",
    "plt.tight_layout()\n",
    "plt.show()"
   ]
  },
  {
   "cell_type": "code",
   "execution_count": 51,
   "metadata": {},
   "outputs": [],
   "source": [
    "# 학습된 모델 저장\n",
    "path = {} #모델별 경로명 저장\n",
    "for mk in model_key:\n",
    "    path[mk] = f'Seq2Seq_{mk}.pth'\n",
    "    torch.save(models[mk].state_dict(), path[mk])"
   ]
  },
  {
   "cell_type": "code",
   "execution_count": 52,
   "metadata": {},
   "outputs": [],
   "source": [
    "# 저장된 모델 불러오기\n",
    "load_model = {\n",
    "    'LSTM': Translater_lstm,  # LSTM 모델 인스턴스 생성\n",
    "    'GRU': Translater_gru     # GRU 모델 인스턴스 생성\n",
    "}\n",
    "for mk in model_key:\n",
    "    load_model[mk].load_state_dict(torch.load(path[mk], weights_only=True))\n",
    "    #추론기는 CPU에서 돌리자\n",
    "    load_model[mk] = load_model[mk].to('cpu')"
   ]
  },
  {
   "cell_type": "code",
   "execution_count": 53,
   "metadata": {},
   "outputs": [],
   "source": [
    "import random\n",
    "# 테스트 데이터셋에서 샘플을 추출\n",
    "# 전체 테스트 데이터 개수정보를 추출\n",
    "num_test = padded_src_test.shape[0]\n",
    "sample_epoch = 10 #추출할 샘플 개수 정의\n",
    "indices = random.sample(range(num_test), sample_epoch)\n",
    "\n",
    "# 추출한 샘플번호를 바탕으로 Test 데이터셋에서 무작위 추출\n",
    "S_src_test = padded_src_test[indices]\n",
    "S_tar_test = padded_tar_test[indices]\n",
    "\n",
    "# 원문 데이터만 텐서 자료형으로 변환\n",
    "TS_src_test = torch.tensor(S_src_test, dtype=torch.long)"
   ]
  },
  {
   "cell_type": "code",
   "execution_count": 54,
   "metadata": {},
   "outputs": [
    {
     "name": "stdout",
     "output_type": "stream",
     "text": [
      "\n",
      "--현재 추론 조건: [Seq2Seq_LSTM]--\n"
     ]
    },
    {
     "name": "stderr",
     "output_type": "stream",
     "text": [
      "  0%|          | 0/10 [00:00<?, ?it/s]\n"
     ]
    },
    {
     "ename": "TypeError",
     "evalue": "forward() got an unexpected keyword argument 'BW'",
     "output_type": "error",
     "traceback": [
      "\u001b[1;31m---------------------------------------------------------------------------\u001b[0m",
      "\u001b[1;31mTypeError\u001b[0m                                 Traceback (most recent call last)",
      "Cell \u001b[1;32mIn[54], line 10\u001b[0m\n\u001b[0;32m      8\u001b[0m iter_src_data \u001b[38;5;241m=\u001b[39m TS_src_test[idx]\u001b[38;5;241m.\u001b[39munsqueeze(\u001b[38;5;241m0\u001b[39m)\n\u001b[0;32m      9\u001b[0m \u001b[38;5;66;03m# 모델 추론 -> 추론결과는 (bs, max_len) ndarray타입임\u001b[39;00m\n\u001b[1;32m---> 10\u001b[0m tar_infer_doc \u001b[38;5;241m=\u001b[39m \u001b[43mmodel_inference\u001b[49m\u001b[43m(\u001b[49m\u001b[43mload_model\u001b[49m\u001b[43m[\u001b[49m\u001b[43mkey\u001b[49m\u001b[43m]\u001b[49m\u001b[43m,\u001b[49m\u001b[43m \u001b[49m\n\u001b[0;32m     11\u001b[0m \u001b[43m                    \u001b[49m\u001b[43miter_src_data\u001b[49m\u001b[43m,\u001b[49m\u001b[43m \u001b[49m\u001b[43mspec_token\u001b[49m\u001b[43m)\u001b[49m\n\u001b[0;32m     12\u001b[0m tar_dict[key]\u001b[38;5;241m.\u001b[39mappend(tar_infer_doc)\n",
      "File \u001b[1;32mf:\\서울ICT교육\\seq2seq\\Seq_trainer.py:157\u001b[0m, in \u001b[0;36mmodel_inference\u001b[1;34m(model, src_data, BW)\u001b[0m\n\u001b[0;32m    155\u001b[0m     tar_infer \u001b[38;5;241m=\u001b[39m model(src_data)\n\u001b[0;32m    156\u001b[0m \u001b[38;5;28;01melse\u001b[39;00m:\n\u001b[1;32m--> 157\u001b[0m     tar_infer \u001b[38;5;241m=\u001b[39m \u001b[43mmodel\u001b[49m\u001b[43m(\u001b[49m\u001b[43msrc_data\u001b[49m\u001b[43m,\u001b[49m\u001b[43m \u001b[49m\u001b[43mBW\u001b[49m\u001b[38;5;241;43m=\u001b[39;49m\u001b[43mBW\u001b[49m\u001b[43m)\u001b[49m\n\u001b[0;32m    158\u001b[0m \u001b[38;5;66;03m# 추론결과는 (BS=1, max_len, BW) -> numpy자료형 변환\u001b[39;00m\n\u001b[0;32m    159\u001b[0m nd_tar_infer \u001b[38;5;241m=\u001b[39m tar_infer\u001b[38;5;241m.\u001b[39mcpu()\u001b[38;5;241m.\u001b[39mnumpy()\n",
      "File \u001b[1;32mc:\\Users\\HILS_AMD\\AppData\\Local\\Programs\\Python\\Python38\\lib\\site-packages\\torch\\nn\\modules\\module.py:1553\u001b[0m, in \u001b[0;36mModule._wrapped_call_impl\u001b[1;34m(self, *args, **kwargs)\u001b[0m\n\u001b[0;32m   1551\u001b[0m     \u001b[38;5;28;01mreturn\u001b[39;00m \u001b[38;5;28mself\u001b[39m\u001b[38;5;241m.\u001b[39m_compiled_call_impl(\u001b[38;5;241m*\u001b[39margs, \u001b[38;5;241m*\u001b[39m\u001b[38;5;241m*\u001b[39mkwargs)  \u001b[38;5;66;03m# type: ignore[misc]\u001b[39;00m\n\u001b[0;32m   1552\u001b[0m \u001b[38;5;28;01melse\u001b[39;00m:\n\u001b[1;32m-> 1553\u001b[0m     \u001b[38;5;28;01mreturn\u001b[39;00m \u001b[38;5;28;43mself\u001b[39;49m\u001b[38;5;241;43m.\u001b[39;49m\u001b[43m_call_impl\u001b[49m\u001b[43m(\u001b[49m\u001b[38;5;241;43m*\u001b[39;49m\u001b[43margs\u001b[49m\u001b[43m,\u001b[49m\u001b[43m \u001b[49m\u001b[38;5;241;43m*\u001b[39;49m\u001b[38;5;241;43m*\u001b[39;49m\u001b[43mkwargs\u001b[49m\u001b[43m)\u001b[49m\n",
      "File \u001b[1;32mc:\\Users\\HILS_AMD\\AppData\\Local\\Programs\\Python\\Python38\\lib\\site-packages\\torch\\nn\\modules\\module.py:1562\u001b[0m, in \u001b[0;36mModule._call_impl\u001b[1;34m(self, *args, **kwargs)\u001b[0m\n\u001b[0;32m   1557\u001b[0m \u001b[38;5;66;03m# If we don't have any hooks, we want to skip the rest of the logic in\u001b[39;00m\n\u001b[0;32m   1558\u001b[0m \u001b[38;5;66;03m# this function, and just call forward.\u001b[39;00m\n\u001b[0;32m   1559\u001b[0m \u001b[38;5;28;01mif\u001b[39;00m \u001b[38;5;129;01mnot\u001b[39;00m (\u001b[38;5;28mself\u001b[39m\u001b[38;5;241m.\u001b[39m_backward_hooks \u001b[38;5;129;01mor\u001b[39;00m \u001b[38;5;28mself\u001b[39m\u001b[38;5;241m.\u001b[39m_backward_pre_hooks \u001b[38;5;129;01mor\u001b[39;00m \u001b[38;5;28mself\u001b[39m\u001b[38;5;241m.\u001b[39m_forward_hooks \u001b[38;5;129;01mor\u001b[39;00m \u001b[38;5;28mself\u001b[39m\u001b[38;5;241m.\u001b[39m_forward_pre_hooks\n\u001b[0;32m   1560\u001b[0m         \u001b[38;5;129;01mor\u001b[39;00m _global_backward_pre_hooks \u001b[38;5;129;01mor\u001b[39;00m _global_backward_hooks\n\u001b[0;32m   1561\u001b[0m         \u001b[38;5;129;01mor\u001b[39;00m _global_forward_hooks \u001b[38;5;129;01mor\u001b[39;00m _global_forward_pre_hooks):\n\u001b[1;32m-> 1562\u001b[0m     \u001b[38;5;28;01mreturn\u001b[39;00m \u001b[43mforward_call\u001b[49m\u001b[43m(\u001b[49m\u001b[38;5;241;43m*\u001b[39;49m\u001b[43margs\u001b[49m\u001b[43m,\u001b[49m\u001b[43m \u001b[49m\u001b[38;5;241;43m*\u001b[39;49m\u001b[38;5;241;43m*\u001b[39;49m\u001b[43mkwargs\u001b[49m\u001b[43m)\u001b[49m\n\u001b[0;32m   1564\u001b[0m \u001b[38;5;28;01mtry\u001b[39;00m:\n\u001b[0;32m   1565\u001b[0m     result \u001b[38;5;241m=\u001b[39m \u001b[38;5;28;01mNone\u001b[39;00m\n",
      "\u001b[1;31mTypeError\u001b[0m: forward() got an unexpected keyword argument 'BW'"
     ]
    }
   ],
   "source": [
    "# 추론 결과를 저장할 딕셔너리\n",
    "tar_dict = {key: []  for key in model_key}\n",
    "\n",
    "for key in model_key:\n",
    "    print(f\"\\n--현재 추론 조건: [Seq2Seq_{key}]--\") # 조건에 맞는 실험시작\n",
    "    for idx in tqdm(range(sample_epoch)): #추론 에포크별 추론 시작\n",
    "        # 입력되는 원문 차원을 (1, src_seq_len)으로 만들기 위한 코드\n",
    "        iter_src_data = TS_src_test[idx].unsqueeze(0)\n",
    "        # 모델 추론 -> 추론결과는 (bs, max_len) ndarray타입임\n",
    "        tar_infer_doc = model_inference(load_model[key], \n",
    "                            iter_src_data, spec_token)\n",
    "        tar_dict[key].append(tar_infer_doc)"
   ]
  },
  {
   "cell_type": "code",
   "execution_count": null,
   "metadata": {},
   "outputs": [],
   "source": [
    "def post_processor(encode_doc, idx_to_word, spec_token):\n",
    "    decode_doc = ['<SOS>'] #코드 안정성을 위해 맨앞에 토큰 추가\n",
    "    for en_word in encode_doc:\n",
    "        #인코딩된 단어 -> 디코드화\n",
    "        #디코딩한 단어가 없는 경우 스페셜토큰의 <UNK>로 변경\n",
    "        de_word = idx_to_word.get(en_word, spec_token[1])  \n",
    "        # 디코딩한 단어가 subword인 경우\n",
    "        if de_word.startswith('##'):\n",
    "            decode_doc[-1] += de_word[2:]\n",
    "        # 디코딩한 결과가 스페셜 토큰이 아닌것만 문장에 추가\n",
    "        elif de_word not in spec_token:\n",
    "            decode_doc.append(de_word)\n",
    "    decode_doc.pop(0) #리스트의 맨 앞 원소 삭제\n",
    "    return ' '.join(decode_doc)"
   ]
  },
  {
   "cell_type": "code",
   "execution_count": null,
   "metadata": {},
   "outputs": [
    {
     "name": "stdout",
     "output_type": "stream",
     "text": [
      "1번째 번역 결과 확인\n",
      "원문(src) : europaische philosophen betrachteten den schlaf als einen grenzzustand , in dem die sinneswahrnehmung einer person zeitweise aussetzt .\n",
      "seqLSTM번역 : 그는 그는 그는 그는 그는 그는 그는 그는 그는 그는 그는 그는 그는 그는 그는 그는 그는 그는 그는 그는 그는 그는 그는 그는 그는 그는 그는 그는 그는 그는 그는 그는 그는 그는 그는 그는 그는 그는 그는 그는 그는 그는 그는 그는 그는 그는 그는 그는 그는 그는 그는 그는 그는\n",
      "seq-GRU번역 : 그는 그는 그는 그는 그는 그는 그는 그는 그는 그는 그는 그는 그는 그는 그는 그는 그는 그는 그는 그는 그는 그는 그는 그는 그는 그는 그는 그는 그는 그는 그는 그는 그는 그는 그는 그는 그는 그는 그는 그는 그는 그는 그는 그는 그는 그는 그는 그는 그는 그는 그는 그는 그는\n",
      "번역문(tar) : 유럽 철학자들은 수면이 사람의 감각적 인식이 일시적으로 중단되는 한계고 생각했습니다 .\n",
      "==============================\n",
      "\n",
      "2번째 번역 결과 확인\n",
      "원문(src) : ausgerechnet in ihrem garten steht oskars einzige bleibe , die ihm noch bleibt .\n",
      "seqLSTM번역 : 그는 그는 그는 그는 그는 그는 그는 그는 그는 그는 그는 그는 그는 그는 그는 그는 그는 그는 그는 그는 그는 그는 그는 그는 그는 그는 그는 그는 그는 그는 그는 그는 그는 그는 그는 그는 그는 그는 그는 그는 그는 그는 그는 그는 그는 그는 그는 그는 그는 그는 그는 그는 그는\n",
      "seq-GRU번역 : 그는 그는 그는 그는 그는 그는 그는 그는 그는 그는 그는 그는 그는 그는 그는 그는 그는 그는 그는 그는 그는 그는 그는 그는 그는 그는 그는 그는 그는 그는 그는 그는 그는 그는 그는 그는 그는 그는 그는 그는 그는 그는 그는 그는 그는 그는 그는 그는 그는 그는 그는 그는 그는\n",
      "번역문(tar) : 아이러니하게도 오스카가 머물 곳은 그녀의 정원뿐입니다 .\n",
      "==============================\n",
      "\n",
      "3번째 번역 결과 확인\n",
      "원문(src) : die regierung begann erst damit , als andere weißere , wohlhabendere gemeinden betroffen waren .\n",
      "seqLSTM번역 : 그는 그는 그는 그는 그는 그는 그는 그는 그는 그는 그는 그는 그는 그는 그는 그는 그는 그는 그는 그는 그는 그는 그는 그는 그는 그는 그는 그는 그는 그는 그는 그는 그는 그는 그는 그는 그는 그는 그는 그는 그는 그는 그는 그는 그는 그는 그는 그는 그는 그는 그는 그는 그는\n",
      "seq-GRU번역 : 그는 그는 그는 그는 그는 그는 그는 그는 그는 그는 그는 그는 그는 그는 그는 그는 그는 그는 그는 그는 그는 그는 그는 그는 그는 그는 그는 그는 그는 그는 그는 그는 그는 그는 그는 그는 그는 그는 그는 그는 그는 그는 그는 그는 그는 그는 그는 그는 그는 그는 그는 그는 그는\n",
      "번역문(tar) : 정부는 다른 백인들이 사는 부유한 지역 사회가 영향을 받았을 때가 되어서야 이 일을 시작했습니다 .\n",
      "==============================\n",
      "\n",
      "4번째 번역 결과 확인\n",
      "원문(src) : weil die morgendliche ubelkeit so schmerzhaft war , habe ich jetzt keine angst mehr vor der geburt .\n",
      "seqLSTM번역 : 그는 그는 그는 그는 그는 그는 그는 그는 그는 그는 그는 그는 그는 그는 그는 그는 그는 그는 그는 그는 그는 그는 그는 그는 그는 그는 그는 그는 그는 그는 그는 그는 그는 그는 그는 그는 그는 그는 그는 그는 그는 그는 그는 그는 그는 그는 그는 그는 그는 그는 그는 그는 그는\n",
      "seq-GRU번역 : 그는 그는 그는 그는 그는 그는 그는 그는 그는 그는 그는 그는 그는 그는 그는 그는 그는 그는 그는 그는 그는 그는 그는 그는 그는 그는 그는 그는 그는 그는 그는 그는 그는 그는 그는 그는 그는 그는 그는 그는 그는 그는 그는 그는 그는 그는 그는 그는 그는 그는 그는 그는 그는\n",
      "번역문(tar) : 입덧이 너무 고통스러워서 더 이상 출산이 두렵지 않았어요 .\n",
      "==============================\n",
      "\n",
      "5번째 번역 결과 확인\n",
      "원문(src) : ich wurde es euch im beschreibungsfeld wissen lassen , falls ich es vergesse .\n",
      "seqLSTM번역 : 그는 그는 그는 그는 그는 그는 그는 그는 그는 그는 그는 그는 그는 그는 그는 그는 그는 그는 그는 그는 그는 그는 그는 그는 그는 그는 그는 그는 그는 그는 그는 그는 그는 그는 그는 그는 그는 그는 그는 그는 그는 그는 그는 그는 그는 그는 그는 그는 그는 그는 그는 그는 그는\n",
      "seq-GRU번역 : 그는 그는 그는 그는 그는 그는 그는 그는 그는 그는 그는 그는 그는 그는 그는 그는 그는 그는 그는 그는 그는 그는 그는 그는 그는 그는 그는 그는 그는 그는 그는 그는 그는 그는 그는 그는 그는 그는 그는 그는 그는 그는 그는 그는 그는 그는 그는 그는 그는 그는 그는 그는 그는\n",
      "번역문(tar) : 잊어 버릴 경우를 대비하여 설명 상자에 알려 드리겠습니다 .\n",
      "==============================\n",
      "\n",
      "6번째 번역 결과 확인\n",
      "원문(src) : in etwas weniger als vier stunden erklomm er den 2 . 307 meter hohen felsvorsprung ohne seile oder sonstige sichernde ausrustung .\n",
      "seqLSTM번역 : 그는 그는 그는 그는 그는 그는 그는 그는 그는 그는 그는 그는 그는 그는 그는 그는 그는 그는 그는 그는 그는 그는 그는 그는 그는 그는 그는 그는 그는 그는 그는 그는 그는 그는 그는 그는 그는 그는 그는 그는 그는 그는 그는 그는 그는 그는 그는 그는 그는 그는 그는 그는 그는\n",
      "seq-GRU번역 : 그는 그는 그는 그는 그는 그는 그는 그는 그는 그는 그는 그는 그는 그는 그는 그는 그는 그는 그는 그는 그는 그는 그는 그는 그는 그는 그는 그는 그는 그는 그는 그는 그는 그는 그는 그는 그는 그는 그는 그는 그는 그는 그는 그는 그는 그는 그는 그는 그는 그는 그는 그는 그는\n",
      "번역문(tar) : 그는 로프나 다른 고정 장비 없이 4시간도 채 안 되는 시간에 2 , 307미터의 바위의 돌출부를 열심히 올라갔습니다 .\n",
      "==============================\n",
      "\n",
      "7번째 번역 결과 확인\n",
      "원문(src) : und schlimmer noch die beiden verliebten wollen sogar zusammenziehen !\n",
      "seqLSTM번역 : 그는 그는 그는 그는 그는 그는 그는 그는 그는 그는 그는 그는 그는 그는 그는 그는 그는 그는 그는 그는 그는 그는 그는 그는 그는 그는 그는 그는 그는 그는 그는 그는 그는 그는 그는 그는 그는 그는 그는 그는 그는 그는 그는 그는 그는 그는 그는 그는 그는 그는 그는 그는 그는\n",
      "seq-GRU번역 : 그는 그는 그는 그는 그는 그는 그는 그는 그는 그는 그는 그는 그는 그는 그는 그는 그는 그는 그는 그는 그는 그는 그는 그는 그는 그는 그는 그는 그는 그는 그는 그는 그는 그는 그는 그는 그는 그는 그는 그는 그는 그는 그는 그는 그는 그는 그는 그는 그는 그는 그는 그는 그는\n",
      "번역문(tar) : 설상가상으로 두 연인은 동거를 원하기까지 합니다 !\n",
      "==============================\n",
      "\n",
      "8번째 번역 결과 확인\n",
      "원문(src) : und dann ist das irgendwie unpra , weil die borste so ist , ich weiß nicht , ob ihr es sehen konnt , aber das tut sie .\n",
      "seqLSTM번역 : 그는 그는 그는 그는 그는 그는 그는 그는 그는 그는 그는 그는 그는 그는 그는 그는 그는 그는 그는 그는 그는 그는 그는 그는 그는 그는 그는 그는 그는 그는 그는 그는 그는 그는 그는 그는 그는 그는 그는 그는 그는 그는 그는 그는 그는 그는 그는 그는 그는 그는 그는 그는 그는\n",
      "seq-GRU번역 : 그는 그는 그는 그는 그는 그는 그는 그는 그는 그는 그는 그는 그는 그는 그는 그는 그는 그는 그는 그는 그는 그는 그는 그는 그는 그는 그는 그는 그는 그는 그는 그는 그는 그는 그는 그는 그는 그는 그는 그는 그는 그는 그는 그는 그는 그는 그는 그는 그는 그는 그는 그는 그는\n",
      "번역문(tar) : 그리고 그것은 강모가 그와 같기 때문에 비적입니다 . 여러분이 볼 수 있을지 모르겠지만 여기 보세요 .\n",
      "==============================\n",
      "\n",
      "9번째 번역 결과 확인\n",
      "원문(src) : ihre faszination fur die saftige , morbide thematik treibt gabriela schließlich dazu , eine stelle als tatortreinigungskraft anzunehmen .\n",
      "seqLSTM번역 : 그는 그는 그는 그는 그는 그는 그는 그는 그는 그는 그는 그는 그는 그는 그는 그는 그는 그는 그는 그는 그는 그는 그는 그는 그는 그는 그는 그는 그는 그는 그는 그는 그는 그는 그는 그는 그는 그는 그는 그는 그는 그는 그는 그는 그는 그는 그는 그는 그는 그는 그는 그는 그는\n",
      "seq-GRU번역 : 그는 그는 그는 그는 그는 그는 그는 그는 그는 그는 그는 그는 그는 그는 그는 그는 그는 그는 그는 그는 그는 그는 그는 그는 그는 그는 그는 그는 그는 그는 그는 그는 그는 그는 그는 그는 그는 그는 그는 그는 그는 그는 그는 그는 그는 그는 그는 그는 그는 그는 그는 그는 그는\n",
      "번역문(tar) : 강렬하고 타락한 주제에 대한 그녀의 매력은 궁극적으로 가브리엘라를 범죄 현장 청소부로 일하게 만듭니다 .\n",
      "==============================\n",
      "\n",
      "10번째 번역 결과 확인\n",
      "원문(src) : damit haben die beiden plotzlich etwas , das beide begeistert . . .\n",
      "seqLSTM번역 : 그는 그는 그는 그는 그는 그는 그는 그는 그는 그는 그는 그는 그는 그는 그는 그는 그는 그는 그는 그는 그는 그는 그는 그는 그는 그는 그는 그는 그는 그는 그는 그는 그는 그는 그는 그는 그는 그는 그는 그는 그는 그는 그는 그는 그는 그는 그는 그는 그는 그는 그는 그는 그는\n",
      "seq-GRU번역 : 그는 그는 그는 그는 그는 그는 그는 그는 그는 그는 그는 그는 그는 그는 그는 그는 그는 그는 그는 그는 그는 그는 그는 그는 그는 그는 그는 그는 그는 그는 그는 그는 그는 그는 그는 그는 그는 그는 그는 그는 그는 그는 그는 그는 그는 그는 그는 그는 그는 그는 그는 그는 그는\n",
      "번역문(tar) : 갑자기 두 사람에게 영감을 주는 무언가가 생겼습니다 . . .\n",
      "==============================\n",
      "\n"
     ]
    }
   ],
   "source": [
    "idx_list = range(1, sample_epoch+1)\n",
    "for idx, src, pred_lstm, pred_gru, tar in zip(idx_list, S_src_test, \n",
    "                                              tar_dict['LSTM'], \n",
    "                                              tar_dict['GRU'], \n",
    "                                              S_tar_test):\n",
    "    # 원문, 모델번역문_1, 모델번역문_2, 정답번역문 순으로 디코딩\n",
    "    decode_src = post_processor(src, idx_to_src, spec_token)\n",
    "    de_pred_lstm = post_processor(pred_lstm, idx_to_tar, spec_token)\n",
    "    de_pred_gru = post_processor(pred_gru, idx_to_tar, spec_token)\n",
    "    decode_tar = post_processor(tar, idx_to_tar, spec_token)\n",
    "\n",
    "    print(f\"{idx}번째 번역 결과 확인\")\n",
    "    print(f\"원문(src) : {decode_src}\")\n",
    "    print(f\"seqLSTM번역 : {de_pred_lstm}\")\n",
    "    print(f\"seq-GRU번역 : {de_pred_gru}\")\n",
    "    print(f\"번역문(tar) : {decode_tar}\")\n",
    "    print(\"==============================\\n\")"
   ]
  }
 ],
 "metadata": {
  "kernelspec": {
   "display_name": "Python 3",
   "language": "python",
   "name": "python3"
  },
  "language_info": {
   "codemirror_mode": {
    "name": "ipython",
    "version": 3
   },
   "file_extension": ".py",
   "mimetype": "text/x-python",
   "name": "python",
   "nbconvert_exporter": "python",
   "pygments_lexer": "ipython3",
   "version": "3.8.10"
  }
 },
 "nbformat": 4,
 "nbformat_minor": 2
}
